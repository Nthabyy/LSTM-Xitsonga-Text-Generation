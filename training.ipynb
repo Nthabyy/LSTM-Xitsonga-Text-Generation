{
 "cells": [
  {
   "cell_type": "code",
   "execution_count": 2,
   "metadata": {},
   "outputs": [],
   "source": [
    "import tensorflow as tf\n",
    "from tensorflow.keras.preprocessing.text import Tokenizer\n",
    "from tensorflow.keras.preprocessing.sequence import pad_sequences\n",
    "from tensorflow.keras.utils import to_categorical\n",
    "from tensorflow.keras.callbacks import EarlyStopping\n",
    "from sklearn.model_selection import train_test_split\n",
    "from tensorflow.keras.models import Sequential\n",
    "from tensorflow.keras.layers import Embedding, LSTM, Dense, Dropout\n",
    "from tensorflow.keras.optimizers import Adam\n",
    "import numpy as np\n",
    "import re\n",
    "import os\n",
    "import string\n",
    "import matplotlib.pyplot as plt\n",
    "from nltk.corpus import stopwords\n"
   ]
  },
  {
   "cell_type": "code",
   "execution_count": 3,
   "metadata": {},
   "outputs": [
    {
     "name": "stdout",
     "output_type": "stream",
     "text": [
      "['Hlaya xiletelo xa xikombelo eka pheji 7 hi vukheta, tani hilaha xi nga na mahungu ya nkoka lama nga ta ku pfuna eka ku tata fomo ya xikombelo kahle.\\n', 'tata fomo ya xikombelo leyi nga laha ndzhaku no vona leswaku u nghenisile tidokhumente hinkwato leti lavekaka na nsayino wa wena laha wu lavekaka.\\n', \"Rhumela fomo na tidokhumente tin'wana to engetela eka gEMs hi yin'wana ya tindlela leti landzelaka:\\n\", 'Fekisi: 0861 00 4367\\n', \"Tisenthara ta xifundza to yisa hi voko: Languta xiletelo xa xikombelo eka pheji 7 ku kuma vuxokoxoko byin'wana.\\n\", 'Loko xikombelo xa wena xi amukeriwile, GEMS yi ta ku rhumela phasela ro ku amukela eka masiku ya 7 endzhaku ka ku amukela xikombelo xa wena.\\n', 'Xikombelo xa wena xi ta hlwela ku kambisisiwa loko u nga nyiki GEMS tidokhumente hinkwato leti lavekaka.\\n', 'Loko xikombelo xa wena xi nga kambisisiwangi, GEMS yi ta tihlanganisa na wena eka masiku ya 15\\n', 'ya ku amukela xikombelo xa wena.\\n', 'Tihlanganise na senthara ya hina ya tiqingho eka 0860 00 4367 kumbe u rhumela imeyili eka enquiries@gems.gov.za loko u lava ku pfuniwa nakambe mayelana na matatelo ya fomo ya wena ya xikombelo.\\n']\n"
     ]
    }
   ],
   "source": [
    "folder_path = r\"C:\\Backup\\Desktop\\Xitsonga-Text Generation-LSTM\\dataset\"\n",
    "\n",
    "files = os.listdir(folder_path)\n",
    "\n",
    "data = []\n",
    "for file_name in files:\n",
    "    file_path = os.path.join(folder_path, file_name)\n",
    "    if os.path.isfile(file_path):  \n",
    "        with open(file_path, 'r', encoding='utf-8') as file:\n",
    "            data.extend(file.readlines())\n",
    "\n",
    "print(data[:10])\n"
   ]
  },
  {
   "cell_type": "markdown",
   "metadata": {},
   "source": [
    "## Data Cleaning"
   ]
  },
  {
   "cell_type": "code",
   "execution_count": null,
   "metadata": {},
   "outputs": [],
   "source": [
    "import itertools\n",
    "\n",
    "# Existing stopwords\n",
    "xitsonga_stopwords = [\n",
    "    \"ku\", \"a\", \"i\", \"e\", \"o\", \"le\", \"ti\", \"to\", \n",
    "    \"na\", \"ni\", \"ka\", \"va\", \"hi\", \"lo\", \"ya\", \"ma\"\n",
    "]\n",
    "\n",
    "# Generate all consonant-vowel and vowel-consonant combinations\n",
    "vowels = ['a', 'e', 'i', 'o', 'u']\n",
    "consonants = [chr(c) for c in range(ord('a'), ord('z') + 1) if chr(c) not in vowels]\n",
    "\n",
    "# Add consonant-vowel and vowel-consonant combinations\n",
    "combinations = set(\n",
    "    [\"\".join(pair) for pair in itertools.product(consonants, vowels)] +\n",
    "    [\"\".join(pair) for pair in itertools.product(vowels, consonants)]\n",
    ")\n",
    "\n",
    "# Combine with existing stopwords\n",
    "xitsonga_stopwords.extend(combinations)\n",
    "\n",
    "# Ensure no duplicates\n",
    "xitsonga_stopwords = list(set(xitsonga_stopwords))\n",
    "\n",
    "# Filter stopwords to only include words with less than 3 characters\n",
    "xitsonga_stopwords = [word for word in xitsonga_stopwords if len(word) < 3]\n",
    "\n",
    "# Sort for easier debugging\n",
    "xitsonga_stopwords.sort()\n",
    "\n",
    "print(xitsonga_stopwords[:50])  # Display a subset to check\n"
   ]
  },
  {
   "cell_type": "code",
   "execution_count": 6,
   "metadata": {},
   "outputs": [
    {
     "name": "stdout",
     "output_type": "stream",
     "text": [
      "Original Line: Hlaya xiletelo xa xikombelo eka pheji 7 hi vukheta, tani hilaha xi nga na mahungu ya nkoka lama nga ta ku pfuna eka ku tata fomo ya xikombelo kahle.\n",
      "\n",
      "Cleaned Line: hlaya xiletelo xikombelo eka pheji 7 vukheta, tani hilaha nga mahungu nkoka lama nga pfuna eka tata fomo xikombelo kahle.\n"
     ]
    }
   ],
   "source": [
    "# Define the function to remove Xitsonga stopwords\n",
    "def remove_stopwords(text, stopwords):\n",
    "    # Convert text to lowercase\n",
    "    text = text.lower()\n",
    "    # Split text into words\n",
    "    words = text.split()\n",
    "    # Remove words that are in the stopwords list\n",
    "    filtered_words = [word for word in words if word not in stopwords]\n",
    "    # Join back into a string\n",
    "    return \" \".join(filtered_words)\n",
    "\n",
    "# Apply the stopword removal to the dataset\n",
    "cleaned_data_without_stopwords = [remove_stopwords(line, xitsonga_stopwords) for line in data]\n",
    "\n",
    "# Preview the cleaned dataset\n",
    "print(\"Original Line:\", data[0])  # Original line for reference\n",
    "print(\"Cleaned Line:\", cleaned_data_without_stopwords[0])  # Line after stopword removal\n"
   ]
  },
  {
   "cell_type": "code",
   "execution_count": 7,
   "metadata": {},
   "outputs": [
    {
     "name": "stdout",
     "output_type": "stream",
     "text": [
      "hlaya xiletelo xikombelo eka pheji 7 vukheta, tani hilaha nga mahungu nkoka lama nga pfuna eka tata fomo xikombelo kahle.\n",
      "hlaya xiletelo xikombelo eka pheji vukheta tani hilaha nga mahungu nkoka lama nga pfuna eka tata fomo xikombelo kahle\n"
     ]
    }
   ],
   "source": [
    "# defining a function that will remove the wtitespace, convert into  lowercase\n",
    "def clean_text(text):\n",
    "    text = re.sub(r'[^a-zA-Z\\s]', '', text)  \n",
    "    text = re.sub(r'\\s+', ' ', text)\n",
    "    # Convert to lowercase\n",
    "    text = text.lower()\n",
    "    return text\n",
    "\n",
    "# Apply the cleaning function to the stopword-filtered data\n",
    "fully_cleaned_data = [clean_text(line) for line in cleaned_data_without_stopwords]\n",
    "\n",
    "# Preview the results\n",
    "print( cleaned_data_without_stopwords[0])\n",
    "print( fully_cleaned_data[0])  \n"
   ]
  },
  {
   "cell_type": "markdown",
   "metadata": {},
   "source": [
    "## Preprocessing"
   ]
  },
  {
   "cell_type": "code",
   "execution_count": 8,
   "metadata": {},
   "outputs": [
    {
     "name": "stdout",
     "output_type": "stream",
     "text": [
      "Padded Sequences:\n",
      "[[ 375  313   45    1  554  587  179  121    2   56   78   23    2  180\n",
      "     1  268   68   45   50    0    0    0    0    0    0    0    0    0\n",
      "     0    0]\n",
      " [ 268   68   45    6    2   25  699   24   11    3 1215  243  269   26\n",
      "   219  475   10   25  219    0    0    0    0    0    0    0    0    0\n",
      "     0    0]\n",
      " [ 122   68  243  231  165    1   16   37  137   26   86    0    0    0\n",
      "     0    0    0    0    0    0    0    0    0    0    0    0    0    0\n",
      "     0    0]\n",
      " [ 401    0    0    0    0    0    0    0    0    0    0    0    0    0\n",
      "     0    0    0    0    0    0    0    0    0    0    0    0    0    0\n",
      "     0    0]\n",
      " [ 700  421  232 1216  376  313   45    1  554   36  134  362    0    0\n",
      "     0    0    0    0    0    0    0    0    0    0    0    0    0    0\n",
      "     0    0]\n",
      " [  12   45   10  588   16  122 1508  163    1  202   87  163   45   10\n",
      "     0    0    0    0    0    0    0    0    0    0    0    0    0    0\n",
      "     0    0]\n",
      " [  45   10  589  590   12    3    2 1509   16  243  269   26  219    0\n",
      "     0    0    0    0    0    0    0    0    0    0    0    0    0    0\n",
      "     0    0]\n",
      " [  12   45   10    2 1510   16  220   10    1  202    0    0    0    0\n",
      "     0    0    0    0    0    0    0    0    0    0    0    0    0    0\n",
      "     0    0]\n",
      " [ 163   45   10    0    0    0    0    0    0    0    0    0    0    0\n",
      "     0    0    0    0    0    0    0    0    0    0    0    0    0    0\n",
      "     0    0]\n",
      " [ 791  314  103  328    1    8    3  122  519    1  890   12    3   19\n",
      "   701  377   83 1511   68   10   45    0    0    0    0    0    0    0\n",
      "     0    0]]\n",
      "\n",
      "Tokenizer Word Index:\n",
      "{'eka': 1, 'nga': 2, 'u': 3, 'swa': 4, 'swi': 5, 'leyi': 6, 'bya': 7, 'kumbe': 8, 'ndhavuko': 9, 'wena': 10, 'leswaku': 11, 'loko': 12, 'leswi': 13, 'nawu': 14, 'lowu': 15, 'gems': 16, 'fanele': 17, 'tihuvo': 18, 'lava': 19, 'rihanyo': 20, 'lexi': 21, 'naswona': 22, 'lama': 23, 'vona': 24, 'laha': 25, 'leti': 26, 'vululami': 27, 'endla': 28, 'xiyenge': 29, 'milawu': 30, 'vanhu': 31, 'kona': 32, 'vumbiwa': 33, 'nkarhi': 34, 'mafambiselo': 35, 'kuma': 36, 'yinwana': 37, 'xikimi': 38, 'faneleke': 39, 'khoto': 40, 'mali': 41, 'loyi': 42, 'siku': 43, 'ndlela': 44, 'xikombelo': 45, 'tirhisa': 46, 'vaaki': 47, 'swo': 48, 'xiyimo': 49, 'kahle': 50, 'swirho': 51, 'mhaka': 52, 'munhu': 53, 'tanihi': 54, 'matimba': 55, 'mahungu': 56, 'nyika': 57, 'vutihlamuleri': 58, 'varhangeri': 59, 'xirho': 60, 'mfumo': 61, 'vukorhokeri': 62, 'leri': 63, 'xihlawuhlawu': 64, 'mintirho': 65, 'mimbuyelo': 66, 'xinwana': 67, 'fomo': 68, 'mirhi': 69, 'sisiteme': 70, 'rixaka': 71, 'byi': 72, 'tirhisiwa': 73, 'ndzingano': 74, 'unwana': 75, 'maendlelo': 76, 'vulawuri': 77, 'nkoka': 78, 'tihakelo': 79, 'ndzi': 80, 'karhi': 81, 'ehansi': 82, 'mayelana': 83, 'mina': 84, 'timhaka': 85, 'landzelaka': 86, 'endzhaku': 87, 'kombela': 88, 'sungula': 89, 'vuxirho': 90, 'tirha': 91, 'tala': 92, 'milandzu': 93, 'katsa': 94, 'nwana': 95, 'ntsena': 96, 'huvo': 97, 'vahlayisiwa': 98, 'yona': 99, 'emahlweni': 100, 'lebyi': 101, 'mavabyi': 102, 'hina': 103, 'hambana': 104, 'minkanetano': 105, 'byo': 106, 'ndzinganiso': 107, 'ntirho': 108, 'yena': 109, 'nongonoko': 110, 'kota': 111, 'hikwalaho': 112, 'vurhangeri': 113, 'muholo': 114, 'suka': 115, 'afrika': 116, 'swinwana': 117, 'dzonga': 118, 'loku': 119, 'exikarhi': 120, 'hilaha': 121, 'rhumela': 122, 'mintlawa': 123, 'wunwana': 124, 'endlelo': 125, 'hakela': 126, 'swikoxo': 127, 'dokodela': 128, 'ximfumo': 129, 'hakona': 130, 'landza': 131, 'swiyimo': 132, 'xileriso': 133, 'vuxokoxoko': 134, 'eku': 135, 'timfanelo': 136, 'tindlela': 137, 'riqingho': 138, 'henhla': 139, 'khale': 140, 'vula': 141, 'xikongomelo': 142, 'kambe': 143, 'nomboro': 144, 'nhweti': 145, 'hinkwayo': 146, 'mbuyelo': 147, 'ndyangu': 148, 'hansi': 149, 'nhlayiso': 150, 'pholisi': 151, 'tlakusa': 152, 'vugevenga': 153, 'ndza': 154, 'hinkwawo': 155, 'herisa': 156, 'vuavanyisi': 157, 'nge': 158, 'ntolovelo': 159, 'swipimelo': 160, 'tlhelo': 161, 'tihosi': 162, 'amukela': 163, 'xirhonkulu': 164, 'engetela': 165, 'xana': 166, 'fika': 167, 'nyikiwa': 168, 'ndzawulo': 169, 'minkoka': 170, 'mpimo': 171, 'vutomi': 172, 'fikelela': 173, 'hakeriwa': 174, 'tano': 175, 'netiweke': 176, 'masungulo': 177, 'kavanyisa': 178, 'tani': 179, 'pfuna': 180, 'rimbewu': 181, 'muhlayisiwa': 182, 'tiva': 183, 'xihatla': 184, 'swilaveko': 185, 'endliwa': 186, 'tikhoto': 187, 'hetelela': 188, 'cinca': 189, 'tiyisisa': 190, 'emirini': 191, 'mpfumelelo': 192, 'twisisa': 193, 'hinkwavo': 194, 'amukeriwa': 195, 'mfanelo': 196, 'huma': 197, 'swivangelo': 198, 'biha': 199, 'ngopfu': 200, 'tona': 201, 'masiku': 202, 'hinkwaswo': 203, 'kombisa': 204, 'a': 205, 'bangi': 206, 'ehandle': 207, 'vatirhi': 208, 'teka': 209, 'tlula': 210, 'timali': 211, 'hava': 212, 'khomixini': 213, 'holobye': 214, 'hlawula': 215, 'khumbekaka': 216, 'ku': 217, 'vandla': 218, 'lavekaka': 219, 'tihlanganisa': 220, 'papila': 221, 'lavaka': 222, 'swikongomelo': 223, 'wona': 224, 'tshama': 225, 'hikuva': 226, 'kala': 227, 'swona': 228, 'swiboho': 229, 'tengangiki': 230, 'tinwana': 231, 'yisa': 232, 'b': 233, 'sweswi': 234, 'lawula': 235, 'xiboho': 236, 'khironiki': 237, 'sms': 238, 'kutani': 239, 'x': 240, 'ekhoto': 241, 'vamajisitarata': 242, 'tidokhumente': 243, 'swiyenge': 244, 'fanela': 245, 'vanwana': 246, 'herisiwa': 247, 'sivela': 248, 'magoza': 249, 'vumbhoni': 250, 'ringana': 251, 'fana': 252, 'nandzu': 253, 'ntalo': 254, 'thoriwa': 255, 'hlambanya': 256, 'rinwana': 257, 'fambelanaka': 258, 'rimba': 259, 'joyina': 260, 'mutirhi': 261, 'bela': 262, 'nhlawulo': 263, 'manwana': 264, 'miri': 265, 'swintshwa': 266, 'pfuxetiwa': 267, 'tata': 268, 'hinkwato': 269, 'akhawunti': 270, 'hlayisa': 271, 'xihundla': 272, 'lembe': 273, 'goza': 274, 'boxiweke': 275, 'muphakeri': 276, 'lulamisa': 277, 'vutshunguri': 278, 'ndhawu': 279, 'rivengo': 280, 'majisitarata': 281, 'xiphemu': 282, 'xona': 283, 'landzelela': 284, 'vanga': 285, 'tirhisiwaka': 286, 'handle': 287, 'matimu': 288, 'xikombiso': 289, 'swifundzankulu': 290, 'vantima': 291, 'xitsundzuxo': 292, 'ehenhla': 293, 'swinene': 294, 'hambileswi': 295, 'olova': 296, 'tumbuluxa': 297, 'ntlawa': 298, 'tatiwa': 299, 'rona': 300, 'tirhaka': 301, 'tekiwa': 302, 'vunharhu': 303, 'tivisa': 304, 'mihlawulo': 305, 'r': 306, 'endliweke': 307, 'komiti': 308, 'mbulavulo': 309, 'nkambisiso': 310, 'mfuwo': 311, 'xidemokirasi': 312, 'xiletelo': 313, 'senthara': 314, 'xivongo': 315, 'lawuriwa': 316, 'nhlamuselo': 317, 'tiyisisaka': 318, 'seketela': 319, 'hlamusela': 320, 'hlawuleka': 321, 'ngopfungopfu': 322, 'tlhela': 323, 'afidavhiti': 324, 'xilaveko': 325, 'xivumbeko': 326, 'matsalana': 327, 'tiqingho': 328, 'minkarhi': 329, 'madokodela': 330, 'hlayisiwa': 331, 'swilo': 332, 'swinawana': 333, 'nyikiweke': 334, 'muofisiri': 335, 'mipimo': 336, 'tidyondzo': 337, 'nghenela': 338, 'nghenelela': 339, 'swivumbeko': 340, 'nkanetano': 341, 'ximunhu': 342, 'tsarisiwa': 343, 'vaphakeri': 344, 'xiviko': 345, 'tsundzuka': 346, 'tika': 347, 'nkarhinyana': 348, 'kambela': 349, 'switsundzuxo': 350, 'swinwe': 351, 'hundza': 352, 'hlawuriweke': 353, 'tivisiwa': 354, 'mahanyelo': 355, 'yini': 356, 'mavandla': 357, 'kombetiweke': 358, 'yoleyo': 359, 'yisiwa': 360, 'vuleteri': 361, 'byinwana': 362, 'nakumbe': 363, 'boha': 364, 'laveka': 365, 'mimpimo': 366, 'rhumeriwa': 367, 'kumeka': 368, 'hunguta': 369, 'mintlhontlho': 370, 'kasi': 371, 'enhlokweni': 372, 'vuhandzuri': 373, 'ringeta': 374, 'hlaya': 375, 'languta': 376, 'nakambe': 377, 'vito': 378, 'vufambisi': 379, 'nhlangano': 380, 'hlela': 381, 'sukela': 382, 'nwi': 383, 'vana': 384, 'wihi': 385, 'vile': 386, 'hlawuriwa': 387, 'miehleketo': 388, 'misava': 389, 'katsiwa': 390, 'tb': 391, 'vuswikoti': 392, 'swivandla': 393, 'ndzimana': 394, 'foramu': 395, 'xiyengentsongo': 396, 'vakamberi': 397, 'enkarhini': 398, 'mimfumo': 399, 'tenga': 400, 'fekisi': 401, 'mavito': 402, 'muxaka': 403, 'mani': 404, 'tsala': 405, 'malembe': 406, 'kusuhi': 407, 'koti': 408, 'switirhisiwa': 409, 'xikoxo': 410, 'ntiyiso': 411, 'tumbuluxiwa': 412, 'minongonoko': 413, 'ntlakuso': 414, 'matiko': 415, 'ii': 416, 'murhangeri': 417, 'tumbuluxiweke': 418, 'makungu': 419, 'vuyimeri': 420, 'xifundza': 421, 'hi': 422, 'tiko': 423, 'humaka': 424, 'vuxaka': 425, 'nghenisa': 426, 'xitifiketi': 427, 'kumekaka': 428, 'nunansati': 429, 'minhlangano': 430, 'sapphire': 431, 'beryl': 432, 'xitiviso': 433, 'fanerile': 434, 'njhani': 435, 'hambiswiritano': 436, 'veke': 437, 'dyondzo': 438, 'kamberiwa': 439, 'nxaxamelo': 440, 'tirhana': 441, 'yirisiweke': 442, 'yindlu': 443, 'khodi': 444, 'humesa': 445, 'xihlambanyiso': 446, 'sirhelela': 447, 'xinawu': 448, 'khopi': 449, 'xitatimende': 450, 'hivaids': 451, 'kaloko': 452, 'swibumabumelo': 453, 'xikalo': 454, 'humelela': 455, 'khensa': 456, 'nongoloko': 457, 'vuyeriwa': 458, 'kwihi': 459, 'khombo': 460, 'vutivi': 461, 'tekeriwa': 462, 'swikombiso': 463, 'mufambisi': 464, 'lowuntshwa': 465, 'vafambisi': 466, 'mfikelelo': 467, 'ndzati': 468, 'lawulaka': 469, 'fambisa': 470, 'swirilo': 471, 'tsundzuxana': 472, 'tisisiteme': 473, 'mavonele': 474, 'nsayino': 475, 'muthori': 476, 'xilipi': 477, 'selefoni': 478, 'n': 479, 'pfumeleriweke': 480, 'pfumelela': 481, 'mahi': 482, 'phatinara': 483, 'exibedhlele': 484, 'tatile': 485, 'switatimende': 486, 'xihlambanyo': 487, 'vutsoniwa': 488, 'c': 489, 'tatiweke': 490, 'twanana': 491, 'byela': 492, 'katsaka': 493, 'matirhiselo': 494, 'vuvabyi': 495, 'webusayiti': 496, 'angarhela': 497, 'vulavula': 498, 'nseketelo': 499, 'mindyangu': 500, 'tikeriwa': 501, 'susa': 502, 'ngqelu': 503, 'lawa': 504, 'humelerisa': 505, 'voniwa': 506, 'riphabliki': 507, 'vunwe': 508, 'xivandla': 509, 'fambisaka': 510, 'vumba': 511, 'pfuneta': 512, 'xiyengetsongo': 513, 'ndzavisiso': 514, 'rhula': 515, 'xikoloni': 516, 'tindhuna': 517, 'vanhuxidzi': 518, 'imeyili': 519, 'vundzeni': 520, 'pfumela': 521, 'makhombo': 522, 'hundzisela': 523, 'nkwama': 524, 'fikela': 525, 'maphorisa': 526, 'miholo': 527, 'dsp': 528, 'endlaka': 529, 'antswisa': 530, 'tumbuluxiwile': 531, 'twa': 532, 'etikweni': 533, 'fikeleriwa': 534, 'xifundzankulu': 535, 'tindhawu': 536, 'swiphiqo': 537, 'kunwana': 538, 'pfumaleka': 539, 'xiswona': 540, 'endzeni': 541, 'tsakela': 542, 'moya': 543, 'nxaniso': 544, 'xivilelo': 545, 'iii': 546, 'ntshunxeko': 547, 'ntwanano': 548, 'tsandzeka': 549, 'hundzuluxiwa': 550, 'khoniferense': 551, 'vavasati': 552, 'langutiwa': 553, 'pheji': 554, 'xibedhlele': 555, 'tiawara': 556, 'laviwaka': 557, 'tsarisiwile': 558, 'nyikaka': 559, 'sapusidi': 560, 'titsarisa': 561, 'wunwe': 562, 'tshika': 563, 'durha': 564, 'tinhweti': 565, 'antswa': 566, 'chukele': 567, 'endzela': 568, 'hinkwaro': 569, 'mikarhi': 570, 'tirhisaka': 571, 'vekiweke': 572, 'unwe': 573, 'swileriso': 574, 'yelana': 575, 'masangu': 576, 'kunwe': 577, 'swigwevo': 578, 'swipfuno': 579, 'landzeleriwa': 580, 'lebyintshwa': 581, 'india': 582, 'matikoxikaya': 583, 'lok': 584, 'vuhosi': 585, 'fanelanga': 586, 'vukheta': 587, 'amukeriwile': 588, 'hlwela': 589, 'kambisisiwa': 590, 'entirhweni': 591, 'xikarhi': 592, 'swiviko': 593, 'swihundla': 594, 'kotaka': 595, 'mapapila': 596, 'nsati': 597, 'xikanwe': 598, 'kumile': 599, 'matirhelo': 600, 'hakeriwi': 601, 'tsakisa': 602, 'leteriwa': 603, 'mambirhi': 604, 'ndzetelo': 605, 'matikhomelo': 606, 'kumaka': 607, 'tisa': 608, 'ririmi': 609, 'tshikelela': 610, 'nsirhelelo': 611, 'swifundza': 612, 'vukati': 613, 'eafrika': 614, 'lumalumiwa': 615, 'nkandziyiso': 616, 'xitori': 617, 'tekela': 618, 'alela': 619, 'xiviri': 620, 'xivangelo': 621, 'pimanisiwa': 622, 'muavanyisi': 623, 'lawuleriweke': 624, 'ntshamo': 625, 'hluleka': 626, 'hikokwalaho': 627, 'tirhisana': 628, 'tinhlengeletano': 629, 'mugangeni': 630, 'p': 631, 'etindhawini': 632, 'ekhale': 633, 'adalat': 634, 'ndziho': 635, 'adirese': 636, 'ekaya': 637, 'herisiwile': 638, 'swihi': 639, 'mininjhere': 640, 'komberiwa': 641, 'tlherisela': 642, 'kumi': 643, 'phenceni': 644, 'veka': 645, 'rihanyu': 646, 'vumunhu': 647, 'swiphemu': 648, 'tsarisa': 649, 'hlayisaka': 650, 'nkambelo': 651, 'wwwgemsgovza': 652, 'buloko': 653, 'hileswi': 654, 'tshungula': 655, 'meno': 656, 'angarha': 657, 'swikambelo': 658, 'mindzavisiso': 659, 'vulaka': 660, 'siva': 661, 'tshunguriwa': 662, 'khadi': 663, 'kungu': 664, 'sw': 665, 'hanya': 666, 'ntshungulo': 667, 'hukuri': 668, 'phr': 669, 'fambisiwa': 670, 'veleka': 671, 'tsalwa': 672, 'pfuxeta': 673, 'vutisa': 674, 'koma': 675, 'hlangana': 676, 'cape': 677, 'tumbulukaka': 678, 'ntsengo': 679, 'etlhelo': 680, 'vaka': 681, 'lowukulu': 682, 'ntumbuluko': 683, 'nhlengeletano': 684, 'nhluvukiso': 685, 'vonelo': 686, 'andlariweke': 687, 'byalaka': 688, 'hehliwaka': 689, 'vayimeri': 690, 'maendlele': 691, 'lerisiweke': 692, 'pfumala': 693, 'kanetanaka': 694, 'vaavanyisi': 695, 'mimfumoswivongo': 696, 'anakanyiweke': 697, 'hosi': 698, 'ndzhaku': 699, 'tisenthara': 700, 'pfuniwa': 701, 'poso': 702, 'vutshamo': 703, 'kombisaka': 704, 'kotekaka': 705, 'khexe': 706, 'hakelaka': 707, 'vuhlayiseki': 708, 'hoxeka': 709, 'hlamuseriweke': 710, 'tluriwa': 711, 'mintwanano': 712, 'ya': 713, 'nyikiwile': 714, 'pasi': 715, 'phesali': 716, 'mutirhelamfumo': 717, 'wa': 718, 'makwavo': 719, 'xibedlhele': 720, 'd': 721, 'yaleyo': 722, 'swikombelo': 723, 'swimbirhi': 724, 'hr': 725, 'endleka': 726, 'muganga': 727, 'thlelo': 728, 'rhekodo': 729, 'yihi': 730, 'vatirhelamfumo': 731, 'tiyimiserile': 732, 'ikhonomi': 733, 'famba': 734, 'ehleketa': 735, 'xik': 736, 'salela': 737, 'swivutiso': 738, 'emakumu': 739, 'swakudya': 740, 'malwandle': 741, 'matshungulelo': 742, 'mahlweni': 743, 'vutswedyana': 744, 'kondza': 745, 'fambelana': 746, 'navela': 747, 'lerinene': 748, 'pfumeleriwa': 749, 'exibedlhele': 750, 'mukhuhlwana': 751, 'vava': 752, 'ngati': 753, 'wela': 754, 'lerinwana': 755, 'rinwe': 756, 'rheferense': 757, 'lahlekeriwa': 758, 'velekiwa': 759, 'mphikizano': 760, 'xitalo': 761, 'mpfuneto': 762, 'minkwetlembetano': 763, 'hundzuluxa': 764, 'palamente': 765, 'tinhlamuselo': 766, 'vulema': 767, 'swivilelo': 768, 'xinawana': 769, 'talaka': 770, 'fambisana': 771, 'mubohiwa': 772, 'hangalasiwa': 773, 'simekiwa': 774, 'ematshanwini': 775, 'simeka': 776, 'koxometiweke': 777, 'miganga': 778, 'tindlu': 779, 'hluvukisiwa': 780, 'vamangari': 781, 'mintolovelo': 782, 'vupeladyambu': 783, 'oomen': 784, 'tengiwa': 785, 'xupuriwa': 786, 'canada': 787, 'minxupulo': 788, 'voyamela': 789, 'endhawini': 790, 'tihlanganise': 791, 'faneriwile': 792, 'swoleswo': 793, 'thoriweke': 794, 'phencenini': 795, 'mahakelelo': 796, 'h': 797, 'koka': 798, 'landzela': 799, 'van': 800, 'vulavisisi': 801, 'kumeke': 802, 'kamba': 803, 'makumu': 804, 'j': 805, 'tivekaka': 806, 'mutswari': 807, 'ntukulu': 808, 'makwenu': 809, 'languteriwile': 810, 'minhlawulo': 811, 'xiya': 812, 'koteka': 813, 'nkucetelo': 814, 'fekisa': 815, 'nkombo': 816, 'murhi': 817, 'leyintshwa': 818, 'sunguleni': 819, 'mawuwani': 820, 'tlakusiwa': 821, 'langutela': 822, 'pmb': 823, 'khalikhuleta': 824, 'kumisisa': 825, 'byintshwa': 826, 'mhangu': 827, 'sivelaka': 828, 'hambiloko': 829, 'dya': 830, 'ntlhanu': 831, 'facets': 832, 'hambanile': 833, 'mahala': 834, 'fikeleleka': 835, 'swivongo': 836, 'manana': 837, 'phini': 838, 'mavhiki': 839, 'letela': 840, 'tsundzuxa': 841, 'mitlawa': 842, 'humelelaka': 843, 'vonaka': 844, 'nchumu': 845, 'yelanaka': 846, 'vekiwa': 847, 'nhloko': 848, 'mzimasi': 849, 'nkateko': 850, 'laya': 851, 'xinwe': 852, 'tirhekhodo': 853, 'xedulu': 854, 'manghenelo': 855, 'timbhoni': 856, 'vukona': 857, 'riki': 858, 'erivaleni': 859, 'anga': 860, 'swiyirisiwa': 861, 'swihlawulekisi': 862, 'ndzilekano': 863, 'humelerisiwa': 864, 'mpfilumpfilu': 865, 'mumangaleriwa': 866, 'tipholisi': 867, 'xiave': 868, 'nkanerisano': 869, 'mukhuva': 870, 'mukamberi': 871, 'xaxametiweke': 872, 'matsalwa': 873, 'hundzeke': 874, 'rifuwo': 875, 'malawi': 876, 'nkhumbo': 877, 'tiyindlu': 878, 'botswana': 879, 'kongomisa': 880, 'mafumele': 881, 'australia': 882, 'tiforamu': 883, 'tivisiweke': 884, 'lokukulu': 885, 'ehubyeni': 886, 'tengiwaka': 887, 'phepha': 888, 'sachs': 889, 'enquiriesgemsgovza': 890, 'rhumeli': 891, 'hlawulaka': 892, 'tswariwa': 893, 'tsakelaka': 894, 'languteriweke': 895, 'tiyile': 896, 'lulamile': 897, 'xolexo': 898, 'kumiweke': 899, 'kaya': 900, 'tsarisiweke': 901, 'khamphani': 902, 'ndzeni': 903, 'hundzisa': 904, 'tshuka': 905, 'ntiyisiso': 906, 'tifomo': 907, 'nuna': 908, 'wolowo': 909, 'ivi': 910, 'swikimi': 911, 'yimisa': 912, 'hlanganisiweke': 913, 'prime': 914, 'cure': 915, 'network': 916, 'aids': 917, 'mpl': 918, 'mahlo': 919, 'ntokoto': 920, 'hakeriwaka': 921, 'tekiweke': 922, 'kokiwa': 923, 'tinharhu': 924, 'medipost': 925, 'tlakukile': 926, 'vuhlanganisi': 927, 'endlile': 928, 'aka': 929, 'tiya': 930, 'dyondzisiwa': 931, 'hinkwabyo': 932, 'hlamuseriwa': 933, 'taka': 934, 'emisaveni': 935, 'tirhekodo': 936, 'mati': 937, 'pima': 938, 'mune': 939, 'ice': 940, 'yinwe': 941, 'vatswari': 942, 'yima': 943, 'hatla': 944, 'vaxisati': 945, 'ntshuxeko': 946, 'pfunaka': 947, 'tiphina': 948, 'hetiseka': 949, 'hambi': 950, 'tihofisi': 951, 'tihi': 952, 'tinyiketela': 953, 'doroba': 954, 'hiv': 955, 'nghena': 956, 'lemuka': 957, 'xihi': 958, 'tumbela': 959, 'timbirhi': 960, 'nxaniseko': 961, 'enta': 962, 'kuva': 963, 'netcare': 964, 'hofisi': 965, 'endliwaka': 966, 'kontiraka': 967, 'mudyaxihi': 968, 'nghozi': 969, 'xandla': 970, 'sungule': 971, 'vavuyeriwa': 972, 'simekiwile': 973, 'vuyimana': 974, 'tinghozi': 975, 'endlela': 976, 'kanela': 977, 'leyikulu': 978, 'muyimeri': 979, 'vakhanselara': 980, 'mulawuri': 981, 'phurojeke': 982, 'mavonelo': 983, 'vaofisiri': 984, 'swihlawulekiso': 985, 'vukhale': 986, 'endyangwini': 987, 'hambanisa': 988, 'hlawuleriweke': 989, 'vukhongeri': 990, 'mitengo': 991, 'yiriso': 992, 'tumbuluka': 993, 'hangalasa': 994, 'vuriwa': 995, 'siviwa': 996, 'khoso': 997, 'lerisa': 998, 'tirhanaka': 999, 'yingiseriwa': 1000, 'lomu': 1001, 'ndzivalelano': 1002, 'nakona': 1003, 'khoma': 1004, 'gazete': 1005, 'hetisekeke': 1006, 'vamatsalani': 1007, 'tiveka': 1008, 'vunwini': 1009, 'ehofisini': 1010, 'ematikweni': 1011, 'tshamaka': 1012, 'tifumaka': 1013, 'langutaneke': 1014, 'etimhakeni': 1015, 'vavanuna': 1016, 'vakhomixinara': 1017, 'kanetana': 1018, 'ndzhuti': 1019, 'lamantshwa': 1020, 'wanuna': 1021, 'ndhuna': 1022, 'vagqweta': 1023, 'palamende': 1024, 'khonsepe': 1025, 'ghana': 1026, 'mudyohi': 1027, 'nghenelelana': 1028, 'sekhukhune': 1029, 'wansati': 1030, 'mindziho': 1031, 'nkulukumba': 1032, 'ndhunandhunakazi': 1033, 'emhakeni': 1034, 'vakomberi': 1035, 'nembeneta': 1036, 'makarata': 1037, 'emuholweni': 1038, 'debiti': 1039, 'oda': 1040, 'tibangi': 1041, 'rhavi': 1042, 'hlayisiwaka': 1043, 'mukorhokeri': 1044, 'tiejenti': 1045, 'endlele': 1046, 'tinhlayo': 1047, 'vulavurisana': 1048, 'vakorhokeri': 1049, 'tirhiseriwa': 1050, 'tirhiseriwi': 1051, 'xavisiwa': 1052, 'ieswaku': 1053, 'thlerisela': 1054, 'mafambisele': 1055, 'tibohela': 1056, 'rhekhodiwa': 1057, 'bindzu': 1058, 'm': 1059, 'z': 1060, 'xidzi': 1061, 'adoptiwa': 1062, 'vatsoniwa': 1063, 'sunguti': 1064, 'minsalo': 1065, 'e': 1066, 'tirhisi': 1067, 'nghenelaka': 1068, 'tatiwile': 1069, 'kambisisa': 1070, 'kumekile': 1071, 'hetisa': 1072, 'hungu': 1073, 'kurile': 1074, 'languterile': 1075, 'hinkwerhu': 1076, 'tlhelela': 1077, 'endleke': 1078, 'engeteriwa': 1079, 'hungutiwa': 1080, 'rhumeriwile': 1081, 'nwendzamhala': 1082, 'manharhu': 1083, 'famasi': 1084, 'kombisiweke': 1085, 'lamanene': 1086, 'muni': 1087, 'pasisa': 1088, 'hakeli': 1089, 'yak': 1090, 'hlongoriwa': 1091, 'switsongo': 1092, 'ntikelo': 1093, 'bmi': 1094, 'vhiki': 1095, 'nghingiriko': 1096, 'yana': 1097, 'entsungeni': 1098, 'marito': 1099, 'nhlokomhaka': 1100, 'ndzindzakhombo': 1101, 'khomeka': 1102, 'longoloxiwile': 1103, 'malawulelo': 1104, 'hanyile': 1105, 'boxa': 1106, 'rito': 1107, 'titwa': 1108, 'g': 1109, 'i': 1110, 'migingiriko': 1111, 'rifu': 1112, 'tswala': 1113, 'vaongori': 1114, 'hlanganisa': 1115, 'vutswari': 1116, 'tswalela': 1117, 'tithirasiti': 1118, 'atikili': 1119, 'tidiragi': 1120, 'tirhi': 1121, 'vangaka': 1122, 'khumbaka': 1123, 'swiletelo': 1124, 'nyikiwaka': 1125, 'amukeriwi': 1126, 'welaka': 1127, 'hlamula': 1128, 'hakerisa': 1129, 'mbalango': 1130, 'tindzimi': 1131, 'vamanana': 1132, 'matshamelo': 1133, 'xivelekelo': 1134, 'dlaya': 1135, 'nkulu': 1136, 'vuntswedyana': 1137, 'tikomiti': 1138, 'langutisa': 1139, 'tisaka': 1140, 'movha': 1141, 'rero': 1142, 'vone': 1143, 'bosman': 1144, 'hlohlotela': 1145, 'nhlamulo': 1146, 'titsarisela': 1147, 'tindzawulo': 1148, 'tekaka': 1149, 'switiviso': 1150, 'fambisiwaka': 1151, 'hlayiwa': 1152, 'yirisa': 1153, 'xidemokrasi': 1154, 'nsivelo': 1155, 'ndzhwalo': 1156, 'vuhava': 1157, 'mumangali': 1158, 'hulumende': 1159, 'vekela': 1160, 'waxisati': 1161, 'onha': 1162, 'ndzima': 1163, 'jenerali': 1164, 'tiyisisiwa': 1165, 'fanaka': 1166, 'muvileri': 1167, 'letelaka': 1168, 'twisiwa': 1169, 'matshalatshala': 1170, 'lwisana': 1171, 'mahumeleriselo': 1172, 'vambirhi': 1173, 'hambaneke': 1174, 'vaholobye': 1175, 'xinakulobye': 1176, 'lulamisiwa': 1177, 'xiyx': 1178, 'vitaniwa': 1179, 'xikanwekanwe': 1180, 'mindzilekano': 1181, 'mphamelo': 1182, 'lowunwana': 1183, 'gezi': 1184, 'yelanisa': 1185, 'siyiwa': 1186, 'malulamiselo': 1187, 'ndzhati': 1188, 'tikweni': 1189, 'mindhavuko': 1190, 'fambelanisiwa': 1191, 'makaya': 1192, 'kongomeki': 1193, 'transkei': 1194, 'bophuthatswana': 1195, 'mfumoxivongo': 1196, 'tengiweni': 1197, 'rila': 1198, 'ntengo': 1199, 'eghana': 1200, 'mindyangwini': 1201, 'xiphiqo': 1202, 'vukhamba': 1203, 'tlhele': 1204, 'simekiweke': 1205, 'varhangerinkulu': 1206, 'pfunetiwa': 1207, 'biwa': 1208, 'murhangerinkulu': 1209, 'lethamaga': 1210, 'sirheleriweke': 1211, 'yokarhi': 1212, 'swibhumabhumelo': 1213, 'muxanisiwa': 1214, 'nghenisile': 1215, 'voko': 1216, 'ina': 1217, 'muvahlayisiwa': 1218, 'tisiweke': 1219, 'hetisekile': 1220, 'schemes': 1221, 'bohiwa': 1222, 'kolotaka': 1223, 'ndzo': 1224, 'endli': 1225, 'sivi': 1226, 'fikeleriwile': 1227, 'tluriwile': 1228, 'kumangi': 1229, 'longoloxiweke': 1230, 'dokhumente': 1231, 'tisiwa': 1232, 'munghana': 1233, 'yaloye': 1234, 'mutsoniwa': 1235, 'emiehleketweni': 1236, 'kokwana': 1237, 'lavakulu': 1238, 'kumekeka': 1239, 'tihakelela': 1240, 'trustees': 1241, 'pimiwa': 1242, 'saleke': 1243, 'elembeni': 1244, 'khansela': 1245, 'hatlisisa': 1246, 'f': 1247, 'tsariwa': 1248, 'tekiwaka': 1249, 'manuwali': 1250, 'aid': 1251, 'nwiwa': 1252, 'lunghele': 1253, 'leha': 1254, 'khemisi': 1255, 'hleriwa': 1256, 'sayiniwile': 1257, 'xipano': 1258, 'lavi': 1259, 'nghenisiwa': 1260, 'mpfuno': 1261, 'ntsariso': 1262, 'tanihileswi': 1263, 'yintshwa': 1264, 'hileswaku': 1265, 'yoxe': 1266, 'fikile': 1267, 'kula': 1268, 'lawuriwaka': 1269, 'matafula': 1270, 'holaka': 1271, 'buku': 1272, 'vangile': 1273, 'kolotiwaka': 1274, 'mhawuri': 1275, 'tirhisiweke': 1276, 'phurayivhete': 1277, 'phatholoji': 1278, 'likhwidi': 1279, 'kambisisiweke': 1280, 'mbirhihatiwile': 1281, 'xifaniso': 1282, 'hanye': 1283, 'joyinile': 1284, 'swihoxo': 1285, 'ntirhweni': 1286, 'pfumeleriwaka': 1287, 'kombisiwa': 1288, 'fekisela': 1289, 'vilela': 1290, 'mixavo': 1291, 'mutirhela': 1292, 'madyelo': 1293, 'emerald': 1294, 'ee': 1295, 'kongoma': 1296, 'ariwa': 1297, 'khumba': 1298, 'yimela': 1299, 'bihile': 1300, 'tincece': 1301, 'nhlayiseko': 1302, 'lookup': 1303, 'nwina': 1304, 'dotmobi': 1305, 'wexe': 1306, 'lexikulu': 1307, 'yaka': 1308, 'thoriwile': 1309, 'xedyulu': 1310, 'afrikadzonga': 1311, 'rihi': 1312, 'katsi': 1313, 'xikhwama': 1314, 'fikelelaka': 1315, 'yingisela': 1316, 'wuntshwa': 1317, 'heleni': 1318, 'rhandza': 1319, 'ntsako': 1320, 'rhanga': 1321, 'xiyaxiya': 1322, 'nkwetlembetano': 1323, 'k': 1324, 'vakonwana': 1325, 'tatana': 1326, 'tsoniwa': 1327, 'avelana': 1328, 'tialeji': 1329, 'hundzela': 1330, 'tihlawuleleke': 1331, 'ms': 1332, 'mutshamaxitulu': 1333, 'nhlelo': 1334, 'friends': 1335, 'tluleriwa': 1336, 'lwa': 1337, 'hakanyingi': 1338, 'ntiko': 1339, 'vangiwa': 1340, 'tirhisiwi': 1341, 'swarihanyo': 1342, 'muvabyi': 1343, 'and': 1344, 'xikolo': 1345, 'tlheriseriwa': 1346, 'mitwanano': 1347, 'mbilu': 1348, 'dvt': 1349, 'endliwile': 1350, 'kwazulunatal': 1351, 'vumbirhi': 1352, 'switori': 1353, 'sisonke': 1354, 'hlanganeke': 1355, 'sungurile': 1356, 'byitsongo': 1357, 'kuya': 1358, 'chavisa': 1359, 'mabindzu': 1360, 'xikweleti': 1361, 'xitikara': 1362, 'xilamulela': 1363, 'humeleleke': 1364, 'kuna': 1365, 'mutsari': 1366, 'tshikilela': 1367, 'kunene': 1368, 'my': 1369, 'wellness': 1370, 'bot': 1371, 'xipanu': 1372, 'mavokweni': 1373, 'pasisiweke': 1374, 'vusiwana': 1375, 'mafumelo': 1376, 'pimiweke': 1377, 'xitiyisiso': 1378, 'yisaka': 1379, 'leteriweke': 1380, 'tihlanganisi': 1381, 'hotline': 1382, 'mangala': 1383, 'amukeleka': 1384, 'presidente': 1385, 'tlakusaka': 1386, 'xanisiweke': 1387, 'tsoniweke': 1388, 'vunene': 1389, 'vuyirisi': 1390, 'etikhoto': 1391, 'kombeta': 1392, 'xisati': 1393, 'noni': 1394, 'xikaya': 1395, 'dyondzisa': 1396, 's': 1397, 'hoxa': 1398, 'xihlawulekiso': 1399, 'kandziyisa': 1400, 'rivaleni': 1401, 'rakwe': 1402, 'thola': 1403, 'tsandza': 1404, 'heteke': 1405, 'lawuleriwa': 1406, 'landzeleriwaka': 1407, 'khotonkulu': 1408, 'nsimeko': 1409, 'mumangari': 1410, 'minkateko': 1411, 'tisola': 1412, 'vuchuchisi': 1413, 'yanwana': 1414, 'xaxamela': 1415, 'vulamuri': 1416, 'ringaneleke': 1417, 'tiyeke': 1418, 'lavanwana': 1419, 'matsalani': 1420, 'landzelerisa': 1421, 'xigwevo': 1422, 'humelerisaka': 1423, 'hambuka': 1424, 'mintokoto': 1425, 'eriphabliki': 1426, 'tikhoso': 1427, 'xixima': 1428, 'vadyondzi': 1429, 'tinxaka': 1430, 'nhundzu': 1431, 'pfula': 1432, 'rini': 1433, 'hakeriwile': 1434, 'ganixi': 1435, 'dhipozita': 1436, 'fayili': 1437, 'swiambalo': 1438, 'hlamuselaka': 1439, 'swilipi': 1440, 'xivono': 1441, 'mahetelelo': 1442, 'eswifundzeninkulu': 1443, 'katsiwi': 1444, 'inkundla': 1445, 'lekgotla': 1446, 'tafula': 1447, 'eastern': 1448, 'mpumalanga': 1449, 'west': 1450, 'pimanisa': 1451, 'misaveni': 1452, 'komisa': 1453, 'exitulwini': 1454, 'manguva': 1455, 'valungu': 1456, 'yimbirhi': 1457, 'hlanganisiwa': 1458, 'emavokweni': 1459, 'xiafrika': 1460, 'vekiwe': 1461, 'hetelele': 1462, 'tihosikazi': 1463, 'kwandebele': 1464, 'tumbuluxile': 1465, 'mutshami': 1466, 'xitulu': 1467, 'vumbiwaka': 1468, 'nyawuli': 1469, 'thoriwaka': 1470, 'migangeni': 1471, 'vukamberi': 1472, 'emalembeni': 1473, 'hundzuka': 1474, 'hubyeni': 1475, 'pfumelelana': 1476, 'xirilo': 1477, 'xiximiwa': 1478, 'vitaniwaka': 1479, 'emakaya': 1480, 'tali': 1481, 'kunguhatiweke': 1482, 'tsandzekile': 1483, 'valawurinkulu': 1484, 'v': 1485, 'tk': 1486, 'mhlekwa': 1487, 'barbara': 1488, 'madzolonga': 1489, 'mindzhukano': 1490, 'dzivamisoko': 1491, 'swihehlo': 1492, 'herisile': 1493, 'nxupulo': 1494, 'thoriwi': 1495, 'swibalo': 1496, 'emugangeni': 1497, 'bakgatla': 1498, 'magakala': 1499, 'kondletela': 1500, 'nawumbisi': 1501, 'yimisiweke': 1502, 'ndlandlamuxiwa': 1503, 'nhlungavuhosi': 1504, 'kaneriweke': 1505, 'ndzulamiso': 1506, 'ringaneke': 1507, 'phasela': 1508, 'nyiki': 1509, 'kambisisiwangi': 1510, 'matatelo': 1511, 'tikombisa': 1512, 'phasiphoto': 1513, 'vumininjhere': 1514, 'giroso': 1515, 'lontshwa': 1516, 'xirhomuhlayisiwa': 1517, 'ringanangi': 1518, 'othometiki': 1519, 'manwe': 1520, 'laveriwa': 1521, 'thleriseriwaka': 1522, 'nwini': 1523, 'kharente': 1524, 'thiransimixini': 1525, 'xibedhlela': 1526, 'valavo': 1527, 'tiejente': 1528, 'kumbena': 1529, 'xihundleni': 1530, 'laveriwaka': 1531, 'tiejeti': 1532, 'vuriwangiki': 1533, 'vuriweke': 1534, 'tirhiseriweke': 1535, 'aphila': 1536, 'hlawurile': 1537, 'enetiwile': 1538, 'nsatinuna': 1539, 'tlulaka': 1540, 'sayinaka': 1541, 'yimanyana': 1542, 'medical': 1543, 'act': 1544, 'paluxiwile': 1545, 'nyikile': 1546, 'mavabyiya': 1547, 'rihanyoyo': 1548, 'kambelaya': 1549, 'nghenile': 1550, 'tekile': 1551, 'rhwala': 1552, 'ntlulo': 1553, 'tshembisa': 1554, 'joyinaka': 1555, 'minagems': 1556, 'minaakhawunti': 1557, 'ieyi': 1558, 'xikimitiejenti': 1559, 'swibukwana': 1560, 'mimbulavurisano': 1561, 'vavukorhokeri': 1562, 'bindzula': 1563, 'rihanyorihanyonkambelomaendlelo': 1564, 'koxiweke': 1565, 'tibohile': 1566, 'teke': 1567, 'lulamisiweke': 1568, 'mahlayisele': 1569, 'koloko': 1570, 'l': 1571, 'vuyisi': 1572, 'kombele': 1573, 'engetele': 1574, 'ephencenini': 1575, 'supusidi': 1576, 'muhololava': 1577, 'muthorinhlangano': 1578, 'vuxirhi': 1579, 'landzeleka': 1580, 'xintu': 1581, 'tshikaneke': 1582, 'mbhoni': 1583, 'exikolweni': 1584, 'seketelaka': 1585, 'byolebyo': 1586, 'tatanamanana': 1587, 'mutswarixidzi': 1588, 'vamakwavo': 1589, 'tsarisiwaka': 1590, 'swichudeni': 1591, 'khwixine': 1592, 'websayiti': 1593, 'xitichi': 1594, 'hlambanyisa': 1595, 'lulama': 1596, 'angarheliwa': 1597, 'tsarisiwangiki': 1598, 'hlayeriwa': 1599, 'navelaka': 1600, 'xivangwa': 1601, 'tsariwangi': 1602, 'vangeki': 1603, 'hlawuleke': 1604, 'vantshwa': 1605, 'hambani': 1606, 'nembeleti': 1607, 'matsariselo': 1608, 'tsarisiwi': 1609, 'kombisi': 1610, 'mimfungho': 1611, 'yimisiwa': 1612, 'sayina': 1613, 'langutisiwi': 1614, 'tive': 1615, 'dokodeladokodela': 1616, 'tsarisiwangi': 1617, 'for': 1618, 'humeseriwa': 1619, 'high': 1620, 'blood': 1621, 'pressure': 1622, 'asthma': 1623, 'koxaka': 1624, 'holiki': 1625, 'mintshungulo': 1626, 'tisela': 1627, 'kamberile': 1628, 'phiriskripxini': 1629, 'vuyeleriweke': 1630, 'imeyilela': 1631, 'chronicdspgemsgovza': 1632, 'hinkwaxo': 1633, 'dokodele': 1634, 'xaveka': 1635, 'tihlayisele': 1636, 'longoloxaka': 1637, 'minxavo': 1638, 'tat': 1639, 'burisana': 1640, 'leyinwana': 1641, 'ariwile': 1642, 'prisikripxini': 1643, 'matisele': 1644, 'herile': 1645, 'phakete': 1646, 'mufambisinkulu': 1647, 'mphakelo': 1648, 'makhisimusi': 1649, 'fikelekaka': 1650, 'tsaka': 1651, 'miengetelo': 1652, 'mpimoxikarhi': 1653, 'xankoka': 1654, 'ntshikelelo': 1655, 'nguva': 1656, 'tirhile': 1657, 'tlangela': 1658, 'navelela': 1659, 'lerintshwa': 1660, 'osd': 1661, 'tanihilaha': 1662, 'vatirhela': 1663, 'kombisiwile': 1664, 'engeteleleka': 1665, 'tlakuka': 1666, 'khumbile': 1667, 'nghenisiweke': 1668, 'nhlangula': 1669, 'tlakuseke': 1670, 'kotara': 1671, 'yikulu': 1672, 'tintshwa': 1673, 'vutshungurinkulu': 1674, 'patholoji': 1675, 'rhadiyoloji': 1676, 'pmsa': 1677, 'tirhisiwile': 1678, 'segikhali': 1679, 'holi': 1680, 'mana': 1681, 'web': 1682, 'smart': 1683, 'vekiwile': 1684, 'nhlayo': 1685, 'vatirhikulobye': 1686, 'humi': 1687, 'mutshungurinkulu': 1688, 'amukeleki': 1689, 'ambala': 1690, 'kumiwa': 1691, 'fanelangi': 1692, 'methabolizimi': 1693, 'byihi': 1694, 'vulehi': 1695, 'nyuhela': 1696, 'vutiolori': 1697, 'rhandzaka': 1698, 'hakerisi': 1699, 'ruby': 1700, 'onyx': 1701, 'tiayitheme': 1702, 'honisiwa': 1703, 'ekule': 1704, 'ntsungeni': 1705, 'rhumeriwaka': 1706, 'vutihlanganisi': 1707, 'leteriwaka': 1708, 'ponisa': 1709, 'longoloxa': 1710, 'murhandziwa': 1711, 'ndyangwini': 1712, 'mamiliyoni': 1713, 'vhayirasi': 1714, 'ntungu': 1715, 'lwisa': 1716, 'hatlisisiwa': 1717, 'tinyiketa': 1718, 'kun': 1719, 'thayipa': 1720, 'endleriwa': 1721, 'tshunxeka': 1722, 'panga': 1723, 'gemsgovza': 1724, 'switifiketi': 1725, 'xibalo': 1726, 'tiyimiseleke': 1727, 'langutana': 1728, 'hlamarisaka': 1729, 'tikhasimende': 1730, 'tirheka': 1731, 'eafrikadzonga': 1732, 'kulaka': 1733, 'tikhopi': 1734, 'kongomane': 1735, 'tsakile': 1736, 'yile': 1737, 'kotile': 1738, 'katsiwile': 1739, 'mutirhikuloni': 1740, 'cincela': 1741, 'lamo': 1742, 'nyikangi': 1743, 'thleriseriwa': 1744, 'swikweleti': 1745, 'mutekani': 1746, 'muchudeni': 1747, 'ntukuluxinghuwe': 1748, 'tshikile': 1749, 'tise': 1750, 'rhekodiweke': 1751, 'thebu': 1752, 'batheni': 1753, 'pdf': 1754, 'swirhonkulu': 1755, 'muvelekisi': 1756, 'velekela': 1757, 'tikumela': 1758, 'swibedhlele': 1759, 'hlayisekile': 1760, 'vumendlini': 1761, 'thirasiti': 1762, 'dlilukhosi': 1763, 'xixika': 1764, 'titimela': 1765, 'hlaseriwile': 1766, 'chavi': 1767, 'switsongwatsongwana': 1768, 'khohlola': 1769, 'xitsongwatsongwana': 1770, 'masocha': 1771, 'ntluleto': 1772, 'tikomba': 1773, 'xifuva': 1774, 'tikombi': 1775, 'hunguteka': 1776, 'amukeli': 1777, 'mdrtb': 1778, 'hikwalahoke': 1779, 'vavabyi': 1780, 'tsandzekaka': 1781, 'chukela': 1782, 'hlamba': 1783, 'mavoko': 1784, 'khumbi': 1785, 'lifiti': 1786, 'khohlolaka': 1787, 'fambela': 1788, 'kunguhata': 1789, 'tinomboro': 1790, 'ova': 1791, 'hundzaka': 1792, 'nrpl': 1793, 'boheka': 1794, 'premium': 1795, 'management': 1796, 'private': 1797, 'bag': 1798, 'town': 1799, 'vuhundzuluxi': 1800, 'evutonwini': 1801, 'nyiko': 1802, 'ekhwrini': 1803, 'hanyisa': 1804, 'tolovela': 1805, 'midiwayifi': 1806, 'fambafamba': 1807, 'komba': 1808, 'hundzisiwa': 1809, 'vaviseka': 1810, 'thundhelo': 1811, 'thirombosisi': 1812, 'nsiha': 1813, 'vuriwaka': 1814, 'maphepha': 1815, 'langutane': 1816, 'kume': 1817, 'nyanyula': 1818, 'tshembha': 1819, 'tirhiseka': 1820, 'etihofisini': 1821, 'ntshikilelo': 1822, 'nhlonhlotelo': 1823, 'khutaza': 1824, 'biheke': 1825, 'sunguriweke': 1826, 'ringetile': 1827, 'cincile': 1828, 'pfuneke': 1829, 'sweswo': 1830, 'onge': 1831, 'unitas': 1832, 'mpfula': 1833, 'timhangu': 1834, 'tiyimisela': 1835, 'byongo': 1836, 'ringanerile': 1837, 'endleki': 1838, 'kulorhi': 1839, 'tava': 1840, 'wina': 1841, 'sagwati': 1842, 'olovile': 1843, 'vika': 1844, 'rhangeriwa': 1845, 'bohiweke': 1846, 'tisekondi': 1847, 'ena': 1848, 'yeleyo': 1849, 'nghenelelaka': 1850, 'lesi': 1851, 'layiburari': 1852, 'the': 1853, 'tsariweke': 1854, 'ntwela': 1855, 'khumbhaka': 1856, 'xiavi': 1857, 'sirheleriwa': 1858, 'tiyimela': 1859, 'rhangela': 1860, 'tipasi': 1861, 'nghenisiwile': 1862, 'yirisiwa': 1863, 'saleleke': 1864, 'vumbavha': 1865, 'tiviwi': 1866, 'durhiki': 1867, 'hlotela': 1868, 'ekusuhi': 1869, 'ekwazulunatal': 1870, 'mediclinic': 1871, 'khotavuxika': 1872, 'xanisa': 1873, 'mpfumaleko': 1874, 'vangiweke': 1875, 'vuhlampfa': 1876, 'vonakala': 1877, 'tekelaka': 1878, 'bohaka': 1879, 'xiendlo': 1880, 'xanisiwa': 1881, 'kombiwa': 1882, 'vutoloki': 1883, 'lawuriwiki': 1884, 'siviwile': 1885, 'mikambisiso': 1886, 'nghenisiwi': 1887, 'vutiphini': 1888, 'ringanana': 1889, 'facto': 1890, 'xinuna': 1891, 'vuakatiko': 1892, 'hlawuleriwa': 1893, 'ntwisiso': 1894, 'vubihi': 1895, 'lexinwana': 1896, 'anakanyiwaka': 1897, 'provhinsi': 1898, 'xitirhisiwa': 1899, 'vuherisi': 1900, 'vumbiweke': 1901, 'khodo': 1902, 'nhlokweni': 1903, 'tirhaniwa': 1904, 'sungulu': 1905, 'vukulu': 1906, 'nhlohletelo': 1907, 'nyimpi': 1908, 'kongomeke': 1909, 'gonekeke': 1910, 'twisisiwaka': 1911, 'vutshila': 1912, 'bihanga': 1913, 'xipimelo': 1914, 'hluvukisa': 1915, 'tiyisisile': 1916, 'lulamerile': 1917, 'nkhumbeko': 1918, 'tipheteni': 1919, 'gazette': 1920, 'mulawujenerali': 1921, 'vamatsalana': 1922, 'tirhisile': 1923, 'koxiwaka': 1924, 'ni': 1925, 'tsanwa': 1926, 'gimetiwile': 1927, 'fikelerile': 1928, 'xirindzamhangu': 1929, 'humesiweke': 1930, 'humelerisiweni': 1931, 'amukeriweni': 1932, 'hundzisiweke': 1933, 'amukeleke': 1934, 'pheweleke': 1935, 'mpfilungano': 1936, 'muhehliwa': 1937, 'mumangalaleriwa': 1938, 'swiringanyeto': 1939, 'vangiwaka': 1940, 'xivutiso': 1941, 'lova': 1942, 'enerisa': 1943, 'rhekhodo': 1944, 'vilerisiwaka': 1945, 'nxiximo': 1946, 'mapfhumba': 1947, 'vavileri': 1948, 'volavo': 1949, 'sunguleke': 1950, 'kongomaneke': 1951, 'swipanu': 1952, 'mintlangu': 1953, 'switandzhaku': 1954, 'mavumbelo': 1955, 'twisisekaka': 1956, 'tengisiwa': 1957, 'magqweta': 1958, 'hetelelaka': 1959, 'heleleke': 1960, 'jajinkulu': 1961, 'tokoteke': 1962, 'switandati': 1963, 'mulawurijenerali': 1964, 'lavisisa': 1965, 'hambanahambana': 1966, 'khira': 1967, 'hlawuriwaka': 1968, 'tinxakanxaka': 1969, 'vonakaka': 1970, 'twalaka': 1971, 'vadyuhari': 1972, 'pmudende': 1973, 'bana': 1974, 'hakeriwangi': 1975, 'yimile': 1976, 'nyana': 1977, 'khawuntara': 1978, 'tana': 1979, 'masamanisi': 1980, 'tirhelaka': 1981, 'ekhawuntareni': 1982, 'ntshwa': 1983, 'muhlayisi': 1984, 'wundla': 1985, 'thalang': 1986, 'endle': 1987, 'ntirhisano': 1988, 'kherefu': 1989, 'hakelo': 1990, 'tivonakarisa': 1991, 'hlayiseni': 1992, 'ntshamiseko': 1993, 'hambanisiwa': 1994, 'ndzhaka': 1995, 'tlakusiweni': 1996, 'makgotla': 1997, 'twisisaka': 1998, 'ololoxa': 1999, 'vulavuriwaka': 2000, 'mavandlaminhlangano': 2001, 'swinharhu': 2002, 'state': 2003, 'northern': 2004, 'twananisa': 2005, 'tshikiwile': 2006, 'lexintshwa': 2007, 'vukulukumba': 2008, 'vumbe': 2009, 'tikume': 2010, 'ntlhontlho': 2011, 'pasisiwa': 2012, 'fambisanaka': 2013, 'hluvukiseni': 2014, 'bennet': 2015, 'eminkarhini': 2016, 'swifuwo': 2017, 'tinyimpi': 2018, 'vakoloni': 2019, 'britain': 2020, 'vumbiweni': 2021, 'pfumeleriwi': 2022, 'mintsakelo': 2023, 'nyikiwe': 2024, 'hlohloteriwa': 2025, 'vativi': 2026, 'exifundzeni': 2027, 'ciskei': 2028, 'venda': 2029, 'khotsiwa': 2030, 'langutiwile': 2031, 'hlamuseriwile': 2032, 'dyondzaka': 2033, 'swokarhi': 2034, 'leswikulu': 2035, 'leto': 2036, 'bakwena': 2037, 'tihosana': 2038, 'kanetiwaka': 2039, 'fikeleriwaka': 2040, 'charles': 2041, 'formbad': 2042, 'ebotswana': 2043, 'vumundzuku': 2044, 'stellenbosch': 2045, 'engeteleka': 2046, 'etihubyeni': 2047, 'pfumalaka': 2048, 'tshikelele': 2049, 'xithekiniki': 2050, 'hakerisiwa': 2051, 'yimeriwile': 2052, 'swikota': 2053, 'taleki': 2054, 'w': 2055, 'scharf': 2056, 'edzongeni': 2057, 'ndlandlamuxile': 2058, 'vuwundlo': 2059, 'herisiweke': 2060, 'adr': 2061, 'avanyisiwa': 2062, 'mintengo': 2063, 'vunkombo': 2064, 'eaccra': 2065, 'vutitivisi': 2066, 'mbangu': 2067, 'pfuxetiweke': 2068, 'ripfumelo': 2069, 'vakulukumba': 2070, 'rivalelana': 2071, 'vaendli': 2072, 'amukeriwaka': 2073, 'bangindawo': 2074, 'bohile': 2075, 'tembuland': 2076, 'muchuchisi': 2077, 'crimen': 2078, 'injuria': 2079, 'xurhisa': 2080, 'kombisile': 2081, 'tirhisiweni': 2082, 'havumbirhi': 2083, 'mavumbiwa': 2084, 'xinhlokwana': 2085, 'matirhele': 2086, 'voyamelo': 2087, 'aviwa': 2088, 'fambisaneki': 2089, 'fambelanisa': 2090, 'mimfuwo': 2091, 'muntima': 2092, 'tihanyi': 2093, 'rhurhisiwa': 2094, 'tshinyiwa': 2095, 'ntsakelo': 2096, 'nghohe': 2097, 'minthwaso': 2098, 'endzhakunyana': 2099, 'hl': 2100, 'enorth': 2101, 'kondleteriwa': 2102, 'tumbuluxiwaka': 2103, 'fambisani': 2104, 'vahlayisi': 2105, 'mononono': 2106, 'bakgatlabakgalefa': 2107, 'arile': 2108, 'yisiwile': 2109, 'rihisiwa': 2110, 'switandi': 2111, 'byona': 2112, 'tlakuseni': 2113, 'hundzuluxeni': 2114, 'swiendleko': 2115, 'vaxanisiwa': 2116, 'averiwa': 2117, 'minkanerisano': 2118, 'twisisiwa': 2119, 'kanerisana': 2120, 'moseneke': 2121, 'hosikazi': 2122, 'yisiwaka': 2123, 'endleni': 2124, 'mpfampfarhuto': 2125, 'vii': 2126, 'exifundzeninkulu': 2127, 'vuhosini': 2128, 'namuntlha': 2129, 'khotsa': 2130, 'hangalasiwile': 2131, 'ririsa': 2132, 'herisiweni': 2133, 'schmid': 2134, 'tikhoniferense': 2135, 'vaseketeri': 2136, 'vangheneleri': 2137, 'empumalanga': 2138, 'tikhomixini': 2139, 'egauteng': 2140, 'enghenela': 2141, 'minyiketo': 2142, 'rihanyonomboro': 2143, 'xikiminomboro': 2144, 'ntalohilaha': 2145, 'mahungue': 2146, 'lavewaka': 2147, 'xikimie': 2148, 'tsonga': 2149, 'sweswipapila': 2150, 'xirhoswa': 2151, 'matekanelo': 2152, 'xichudenivumbhoni': 2153, 'emirinivumbhoni': 2154, 'xi': 2155, 'naxitatimende': 2156, 'xichudeni': 2157, 'mutsoniwaxitatimende': 2158, 'wolowoxitsundzuxo': 2159, 'xirhoxitsundzuxo': 2160, 'kotekakaxitsundzuxo': 2161, 'ronae': 2162, 'tirhakae': 2163, 'leswie': 2164, 'tshikilee': 2165, 'chukelee': 2166, 'nae': 2167, 'khironikie': 2168, 'wenae': 2169, 'hetile': 2170, 'nkulo': 2171, 'sivaka': 2172, 'matshungulelonkulu': 2173, 'fambaka': 2174, 'xiimo': 2175, 'nyikiwangi': 2176, 'engeteriweke': 2177, 'swikalo': 2178, 'engeteriwile': 2179, 'makumele': 2180, 'ndlandlamuxiwile': 2181, 'khisimusi': 2182, 'hisa': 2183, 'timpfula': 2184, 'swivuvutana': 2185, 'tinjombo': 2186, 'kucetela': 2187, 'wisile': 2188, 'nkhinkhi': 2189, 'xohetelela': 2190, 'dispensation': 2191, 'tlheleriwa': 2192, 'khumbekile': 2193, 'tivaka': 2194, 'engetelo': 2195, 'cinciwa': 2196, 'hlayanyana': 2197, 'vekile': 2198, 'vangiwile': 2199, 'tinochi': 2200, 'salerile': 2201, 'tlheriseriwile': 2202, 'tihlanganisile': 2203, 'xitatimendhe': 2204, 'khumbe': 2205, 'komberile': 2206, 'khumbeka': 2207, 'purakitixina': 2208, 'mawuwai': 2209, 'mihlanganiso': 2210, 'vapurakitixina': 2211, 'vakota': 2212, 'olovi': 2213, 'swintswa': 2214, 'rhanyo': 2215, 'tisayikhologisiti': 2216, 'sayikholoji': 2217, 'avelanaka': 2218, 'sejikhali': 2219, 'swkoxo': 2220, 'tto': 2221, 'hiloko': 2222, 'horiki': 2223, 'malemeb': 2224, 'khalendara': 2225, 'rhadiyoloi': 2226, 'pathoji': 2227, 'tifureyimi': 2228, 'mahelo': 2229, 'vhili': 2230, 'hlawulekili': 2231, 'singita': 2232, 'masingita': 2233, 'mhani': 2234, 'mbanga': 2235, 'elwandle': 2236, 'horile': 2237, 'rendzwo': 2238, 'dyondzile': 2239, 'madoroba': 2240, 'vumune': 2241, 'aykhoni': 2242, 'menyu': 2243, 'swihlangi': 2244, 'kumbetela': 2245, 'hlanganyeta': 2246, 'engeteriwi': 2247, 'profayili': 2248, 'phurofayiriwa': 2249, 'pfumelelaniwaka': 2250, 'za': 2251, 'mfungho': 2252, 'swikoxokumi': 2253, 'ntiyisonhlamuselo': 2254, 'xxikoxo': 2255, 'hleriweni': 2256, 'lexiaxivulileswakuxikoxoxitahakeriwakambe': 2257, 'leswakuxilekuhleriwenilokou': 2258, 'xikoxoxitahakeriwankarhilowulandzelakawohakelagemsyihakelaswikoxokambirhihi': 2259, 'fekiseriwa': 2260, 'imeyiriwa': 2261, 'enquiriesgemsgovzaloko': 2262, 'rna': 2263, 'kanakani': 2264, 'tshikisiwa': 2265, 'tikontrakta': 2266, 'maburuku': 2267, 'lamatsongo': 2268, 'gingirika': 2269, 'fihlula': 2270, 'engeteli': 2271, 'nyama': 2272, 'tshwuka': 2273, 'huku': 2274, 'nhlampfi': 2275, 'oxa': 2276, 'baka': 2277, 'swonwa': 2278, 'xihoko': 2279, 'botoro': 2280, 'majarini': 2281, 'xavi': 2282, 'vupfile': 2283, 'dyana': 2284, 'swineke': 2285, 'timanga': 2286, 'mihandzu': 2287, 'matsavu': 2288, 'ndlala': 2289, 'pmbs': 2290, 'lulamiseriweke': 2291, 'vuphakeri': 2292, 'swikxo': 2293, 'nkari': 2294, 'mafurha': 2295, 'fomula': 2296, 'lala': 2297, 'timinete': 2298, 'kanharhu': 2299, 'xanwanchumu': 2300, 'tithi': 2301, 'famasisiti': 2302, 'hiawuriweke': 2303, 'ntshungeni': 2304, 'olovisiwile': 2305, 'helelangiki': 2306, 'endzaya': 2307, 'xipexalisiti': 2308, 'nxavo': 2309, 'rimbe': 2310, 'hundzeriweke': 2311, 'embhasi': 2312, 'khonsuleti': 2313, 'vat': 2314, 'hundzeriwa': 2315, 'yangiki': 2316, 'voniki': 2317, 'tilulamisela': 2318, 'swilamulelamhangu': 2319, 'tipharamediki': 2320, 'maniloko': 2321, 'khiyiwangi': 2322, 'tiphurofexinali': 2323, 'tit': 2324, 'xilamulelamhangu': 2325, 'tifekisi': 2326, 'fambile': 2327, 'namani': 2328, 'amukerile': 2329, 'tlhava': 2330, 'mukhosi': 2331, 'tithekinoloji': 2332, 'vanghana': 2333, 'tivisiwaka': 2334, 'mgemsgovza': 2335, 'burawuzara': 2336, 'inthanete': 2337, 'sayiti': 2338, 'tumbuluxiile': 2339, 'onolayini': 2340, 'www': 2341, 'imeyila': 2342, 'enquiries': 2343, 'tiendlela': 2344, 'tiendleka': 2345, 'vatirhelamtumo': 2346, 'katsawa': 2347, 'salelaka': 2348, 'xedyul': 2349, 'vathori': 2350, 'vuthu': 2351, 'ejensi': 2352, 'vuhlori': 2353, 'pimanyisa': 2354, 'yingisa': 2355, 'sihundla': 2356, 'malwandla': 2357, 'olovela': 2358, 'webu': 2359, 'fekiseli': 2360, 'poseli': 2361, 'sethifayiwa': 2362, 'vutikombisi': 2363, 'tidokumente': 2364, 'ke': 2365, 'mitlakuso': 2366, 'inifilexini': 2367, 'tinyiketile': 2368, 'kombisiki': 2369, 'sala': 2370, 'makiximamu': 2371, 'pimiwile': 2372, 'child': 2373, 'burawuchara': 2374, 'sirhelerile': 2375, 'miliyoni': 2376, 'tihlamusela': 2377, 'tikela': 2378, 'tlakusile': 2379, 'tibumabumela': 2380, 'hundzi': 2381, 'nsiketelo': 2382, 'tsundzukani': 2383, 'rungula': 2384, 'tihlanagnise': 2385, 'mihlawulelo': 2386, 'kanwe': 2387, 'lko': 2388, 'katsakanya': 2389, 'rhejisitariwa': 2390, 'maraka': 2391, 'xiyengen': 2392, 'vunharhuleyi': 2393, 'navufambisi': 2394, 'himilawu': 2395, 'lowuwu': 2396, 'yabangi': 2397, 'leyilavewaka': 2398, 'swilavekaka': 2399, 'leswakuloko': 2400, 'xikimindza': 2401, 'himpfumelelo': 2402, 'rakhamphani': 2403, 'kumamahungu': 2404, 'rhumele': 2405, 'sabusidi': 2406, 'kumbexitifiketi': 2407, 'tiid': 2408, 'tekiletekiwile': 2409, 'loyo': 2410, 'tatiwaka': 2411, 'muako': 2412, 'vakokwana': 2413, 'mpandzwa': 2414, 'kumiwaka': 2415, 'vatukulu': 2416, 'muhlayisiwavahlayisiwa': 2417, 'kambiwa': 2418, 'hinkarhi': 2419, 'vuxirholexi': 2420, 'kutata': 2421, 'hrentirhweni': 2422, 'kumamali': 2423, 'langutiwi': 2424, 'friend': 2425, 'khuriya': 2426, 'swifundha': 2427, 'ngula': 2428, 'patienthealthrecordiyaxirhonkuluntsenaswilekawena': 2429, 'patient': 2430, 'health': 2431, 'record': 2432, 'gemsloko': 2433, 'login': 2434, 'tshukelela': 2435, 'rhejistara': 2436, 'member': 2437, 'id': 2438, 'submit': 2439, 'tumbuluxeriwa': 2440, 'elekithironiki': 2441, 'cancel': 2442, 'pirintiwa': 2443, 'pfuleka': 2444, 'fomete': 2445, 'bege': 2446, 'exibedlhelendhawu': 2447, 'endzaku': 2448, 'pfa': 2449, 'titwi': 2450, 'hawexe': 2451, 'mamisa': 2452, 'tihlayisa': 2453, 'tlhavi': 2454, 'yuniti': 2455, 'vabyaka': 2456, 'tswariweke': 2457, 'leswana': 2458, 'xibedhele': 2459, 'vavelekisi': 2460, 'vanwantokoto': 2461, 'tiyuniti': 2462, 'vuxika': 2463, 'langutawo': 2464, 'hambileswiku': 2465, 'cincamikarhi': 2466, 'kunga': 2467, 'nandzihiki': 2468, 'entiyisweni': 2469, 'swiro': 2470, 'tirheleke': 2471, 'marthinus': 2472, 'brand': 2473, 'adriaan': 2474, 'wyk': 2475, 'kgomotso': 2476, 'kgang': 2477, 'tinyetela': 2478, 'wukulu': 2479, 'leka': 2480, 'vuyelwa': 2481, 'museketeri': 2482, 'mutsundzuxinkulu': 2483, 'eamerika': 2484, 'khasimende': 2485, 'muanakanyo': 2486, 'rivali': 2487, 'xale': 2488, 'sikirina': 2489, 'swivangwa': 2490, 'eenabled': 2491, 'websmart': 2492, 'tuberculosis': 2493, 'noku': 2494, 'salani': 2495, 'phela': 2496, 'marha': 2497, 'hangalasi': 2498, 'hangalakaka': 2499, 'hatlisa': 2500, 'heli': 2501, 'hefemuli': 2502, 'tikombakangopfuikuvamunhuatshamaakarhelekujulukanavusikunakuva': 2503, 'hlamuselekiki': 2504, 'sputum': 2505, 'xray': 2506, 'minharhu': 2507, 'antitb': 2508, 'bumabumeriwe': 2509, 'mdrtbyihumelela': 2510, 'lokoswitsongwatsongwanaswatbswingahatshunguleki': 2511, 'tirhanyana': 2512, 'wuntsongo': 2513, 'dots': 2514, 'tluleriwi': 2515, 'lehile': 2516, 'languteriwangiki': 2517, 'tlulelaka': 2518, 'siverisiwa': 2519, 'afa': 2520, 'mahungumanwana': 2521, 'kufanelekuvanakutshembanaexikarhikavavabyinavaphakerivavukorhokeri': 2522, 'phurofexinali': 2523, 'faneleku': 2524, 'ndzawuloyarihanyoyitumbuluxiletsalwaratimfanelotavavabyilerikutivisaka': 2525, 'bumabumeriwaka': 2526, 'tsakisiwi': 2527, 'alert': 2528, 'vonele': 2529, 'lokou': 2530, 'enetiwi': 2531, 'tinhlamulo': 2532, 'mavabyiyachukele': 2533, 'iyambuyelo': 2534, 'wawena': 2535, 'chukelekumbe': 2536, 'tlilinikhali': 2537, 'swofanela': 2538, 'xikimimilawu': 2539, 'mahlayiselo': 2540, 'leyinga': 2541, 'dokodel': 2542, 'nongonokowo': 2543, 'lawulamalawuleloyamavabyiyachukeleawusivimalawuleloya': 2544, 'tlilinikhaliyamavabyilama': 2545, 'lamayahumakaekadokodelawawenaxikongomelo': 2546, 'xoseketela': 2547, 'haverisa': 2548, 'titsarisile': 2549, 'riqinghoraswarihanyoragemsivukorhokeribyankokabyaswirhohinkwaswo': 2550, 'phorofexinali': 2551, 'rhangau': 2552, 'lahautshamakakonakuhundzamadokodelayamadokodela': 2553, 'tikhemisi': 2554, 'yaberylnasapphire': 2555, 'lehenhla': 2556, 'dokodelawa': 2557, 'xitivisoxokomba': 2558, 'leswakuu': 2559, 'lekanetiwekeekasejariyayena': 2560, 'muhlanganisi': 2561, 'thekinoloji': 2562, 'tshunguriwahiswipexiyalisitimikarhihinkwayotirhisadokodelawanetiwekekukuma': 2563, 'vukorhokerihintalobyaswarihanyo': 2564, 'vukorhokeribyo': 2565, 'nxavowa': 2566, 'gemsyikupfunakuendlaswoleswo': 2567, 'nomboroya': 2568, 'wavukorhokeri': 2569, 'unwilavaka': 2570, 'vhasini': 2571, 'nhompfu': 2572, 'nomo': 2573, 'swinga': 2574, 'entshemula': 2575, 'tithixu': 2576, 'lahla': 2577, 'chukumeta': 2578, 'leswinga': 2579, 'switepisi': 2580, 'penisele': 2581, 'mawusi': 2582, 'khompyutara': 2583, 'ekulena': 2584, 'ethlelo': 2585, 'wantluleto': 2586, 'namukhuhlwana': 2587, 'tluletiwa': 2588, 'bazi': 2589, 'xihahampfhuka': 2590, 'tluleta': 2591, 'dzaha': 2592, 'dzahaka': 2593, 'hlasela': 2594, 'hanbi': 2595, 'tivulavulela': 2596, 'belaka': 2597, 'in': 2598, 'case': 2599, 'emergency': 2600, 'longoloxile': 2601, 'hixikongomeloxolexovona': 2602, 'leswakuunwananaunwanaekandyanguwawena': 2603, 'ukotakutirhisariqinghora': 2604, 'nomboroyamuphakeriwavukorhokeri': 2605, 'tikhoyini': 2606, 'fowuni': 2607, 'hakeleriwa': 2608, 'adopitiwa': 2609, 'tswariwaka': 2610, 'tswariwile': 2611, 'loyiutatsarisiwakusukaekasikurosungularanhweti': 2612, 'leyiungaendlaxikombelo': 2613, 'tumbuluxeriwile': 2614, 'mutirhelamfumoafanelekekuvaxirhoxagemslokoutshikantirhoekamfumo': 2615, 'ringeti': 2616, 'khadirawenaravuxirhoritirhisiwahiwenanavahlayisiwavawena': 2617, 'lavatsarisiweke': 2618, 'laveke': 2619, 'khalikhuletiwa': 2620, 'mpimowanrplwawaahivaphakerihinkwavovavukorhokeri': 2621, 'phatholojisiti': 2622, 'dathabeyisi': 2623, 'antswisiweke': 2624, 'kombelaka': 2625, 'antswisiwa': 2626, 'tidokhumenta': 2627, 'othomethiki': 2628, 'ejenti': 2629, 'teki': 2630, 'minete': 2631, 'fikeleli': 2632, 'enetiwa': 2633, 'hlamusele': 2634, 'mihlelo': 2635, 'tirheni': 2636, 'loga': 2637, 'hlayiseka': 2638, 'mbulavurisano': 2639, 'saseka': 2640, 'kaye': 2641, 'kwala': 2642, 'lavekiki': 2643, 'ximaguvalawa': 2644, 'kumela': 2645, 'muongori': 2646, 'matswalelo': 2647, 'handzuriwa': 2648, 'khwiri': 2649, 'utherasi': 2650, 'ponisiwa': 2651, 'anasitasiya': 2652, 'karhateka': 2653, 'kunguhatiwa': 2654, 'swintsongo': 2655, 'nyonga': 2656, 'yintsongo': 2657, 'mabelo': 2658, 'muchini': 2659, 'valanga': 2660, 'xiilekithironiki': 2661, 'tshamile': 2662, 'langutile': 2663, 'milenge': 2664, 'tshamelo': 2665, 'birichi': 2666, 'mahahlwa': 2667, 'leswku': 2668, 'tluletiwi': 2669, 'velekile': 2670, 'tiantibayotiki': 2671, 'kukumuka': 2672, 'tolovelekangiki': 2673, 'hayisterekithonomi': 2674, 'marhumbu': 2675, 'tiyela': 2676, 'emilengeni': 2677, 'masokisi': 2678, 'anticoagulant': 2679, 'thwii': 2680, 'phyuphyile': 2681, 'mpfuxeto': 2682, 'pfhumba': 2683, 'kufumela': 2684, 'xintshwa': 2685, 'langutise': 2686, 'hlamarisa': 2687, 'aswi': 2688, 'talangi': 2689, 'taleleke': 2690, 'vuyisiweke': 2691, 'endzhutini': 2692, 'hinkiwerhu': 2693, 'khumbhekile': 2694, 'onhi': 2695, 'hinwaswo': 2696, 'lkwala': 2697, 'khangula': 2698, 'swieho': 2699, 'hlohloteriweke': 2700, 'khumbheke': 2701, 'antsweni': 2702, 'vuyimani': 2703, 'velekiwile': 2704, 'benefit': 2705, 'khutaziwaka': 2706, 'vuya': 2707, 'xibukwana': 2708, 'mhak': 2709, 'aleyi': 2710, 'lulamiseni': 2711, 'endlisaka': 2712, 'khomiwa': 2713, 'tiphinile': 2714, 'tshamani': 2715, 'kufumerili': 2716, 'nkul': 2717, 'swinee': 2718, 'lave': 2719, 'deputy': 2720, 'director': 2721, 'tsundzuki': 2722, 'eposweni': 2723, 'exikhwameni': 2724, 'hakeleke': 2725, 'angarherile': 2726, 'hlayise': 2727, 'kanghwanwa': 2728, 'matitwelo': 2729, 'xitatimente': 2730, 'twe': 2731, 'xivati': 2732, 'mapapa': 2733, 'mpungwa': 2734, 'xihuhuri': 2735, 'nghene': 2736, 'nissan': 2737, 'micra': 2738, 'chayela': 2739, 'ehatfield': 2740, 'pitori': 2741, 'endlwini': 2742, 'ecenturion': 2743, 'khona': 2744, 'hofmeyer': 2745, 'botha': 2746, 'avenues': 2747, 'tirhoboto': 2748, 'pfarile': 2749, 'tsundzuke': 2750, 'tlumbiwa': 2751, 'mukhandziyi': 2752, 'vonangi': 2753, 'tsundzukeke': 2754, 'efasitereni': 2755, 'kalangi': 2756, 'lex': 2757, 'muhundzi': 2758, 'bele': 2759, 'hannes': 2760, 'tsutsumele': 2761, 'tivile': 2762, 'kayakayisiwi': 2763, 'pona': 2764, 'byele': 2765, 'phaphuka': 2766, 'lamala': 2767, 'tekele': 2768, 'xithongwana': 2769, 'coma': 2770, 'intensive': 2771, 'care': 2772, 'unit': 2773, 'pfuka': 2774, 'hundziseriwe': 2775, 'timbanga': 2776, 'ekensington': 2777, 'joni': 2778, 'tikumele': 2779, 'tekanile': 2780, 'nqobile': 2781, 'mangena': 2782, 'hundzekesweswi': 2783, 'cincangi': 2784, 'pfune': 2785, 'endleriweke': 2786, 'boheke': 2787, 'enerisile': 2788, 'xinghana': 2789, 'mpfunetolowu': 2790, 'languteriwangi': 2791, 'ponise': 2792, 'antswile': 2793, 'bohi': 2794, 'muhlamuseri': 2795, 'byelaka': 2796, 'twala': 2797, 'langutele': 2798, 'mawuwana': 2799, 'mhungu': 2800, 'visit': 2801, 'tinyungubyisa': 2802, 'vayimana': 2803, 'timinjhere': 2804, 'vuthwasi': 2805, 'engetelabyo': 2806, 'velekisa': 2807, 'ndlelayo': 2808, 'pulani': 2809, 'cinciwi': 2810, 'kangani': 2811, 'tirhise': 2812, 'xitshunxo': 2813, 'hela': 2814, 'tikhodi': 2815, 'rgoza': 2816, 'benefitgoza': 2817, 'gemsgoza': 2818, 'nb': 2819, 'kamberiwaka': 2820, 'hanis': 2821, 'name': 2822, 'selula': 2823, 'xiphurofexinali': 2824, 'emintirhweni': 2825, 'andza': 2826, 'siveleka': 2827, 'fani': 2828, 'xirhambo': 2829, 'kaneriwa': 2830, 'boheki': 2831, 'unweunwe': 2832, 'yimerile': 2833, 'rhabiwa': 2834, 'nhamu': 2835, 'engeteriwaka': 2836, 'laa': 2837, 'langutisisa': 2838, 'engatini': 2839, 'cholesterol': 2840, 'tlhaviwa': 2841, 'rintiho': 2842, 'xisuti': 2843, 'ahungu': 2844, 'swihungwana': 2845, 'lexa': 2846, 'sunguriwaka': 2847, 'switsalwana': 2848, 'dyondzisaka': 2849, 'phendla': 2850, 'first': 2851, 'centre': 2852, 'humelelau': 2853, 'hlaseriwa': 2854, 'homepage': 2855, 'matliloko': 2856, 'zone': 2857, 'tinhlokomhaka': 2858, 'vakhomi': 2859, 'board': 2860, 'langutaka': 2861, 'tshamiseka': 2862, 'matirhleo': 2863, 'tihekhodo': 2864, 'vumaketi': 2865, 'twela': 2866, 'ex': 2867, 'gratia': 2868, 'committee': 2869, 'tluli': 2870, 'ximiki': 2871, 'tiviwa': 2872, 'vanghenisi': 2873, 'koimti': 2874, 'hundziselaka': 2875, 'lamuriwa': 2876, 'helerile': 2877, 'switifikheti': 2878, 'aleriwa': 2879, 'pfuxetiwile': 2880, 'taya': 2881, 'kavanyetiwa': 2882, 'xiilekitironiki': 2883, 'minsuso': 2884, 'endlangi': 2885, 'susi': 2886, 'pfumeli': 2887, 'gingiriko': 2888, 'awihi': 2889, 'kpmg': 2890, 'chuhi': 2891, 'tshamisekangiki': 2892, 'ngavukorhokeri': 2893, 'paluxiki': 2894, 'pfuriwa': 2895, 'kahlelandzelela': 2896, 'khumbhekeke': 2897, 'hlayisi': 2898, 'ng': 2899, 'service': 2900, 'pfumelelaka': 2901, 'hlota': 2902, 'antswisiwile': 2903, 'dodora': 2904, 'xidorobana': 2905, 'kondleteleni': 2906, 'tokota': 2907, 'switshunxo': 2908, 'eswibedlehele': 2909, 'ngheneleleke': 2910, 'swibedlhele': 2911, 'enela': 2912, 'kombise': 2913, 'nyenyenyana': 2914, 'kombetiwa': 2915, 'xinghezi': 2916, 'hundzuluxiweke': 2917, 'ravumbirhi': 2918, 'hlanganisela': 2919, 'vakhale': 2920, 'akiwa': 2921, 'tama': 2922, 'tele': 2923, 'tsakisaka': 2924, 'tekeriweke': 2925, 'hundzukeriwa': 2926, 'vuhunguti': 2927, 'vuhangalasi': 2928, 'vaahluri': 2929, 'rimbewuna': 2930, 'theme': 2931, 'kombandlela': 2932, 'hluvuka': 2933, 'xikombekiso': 2934, 'ehleketelelaka': 2935, 'vili': 2936, 'ntoloveto': 2937, 'kongomaka': 2938, 'kongomi': 2939, 'kuoloveriwa': 2940, 'xiyirisiwa': 2941, 'mitshuxeko': 2942, 'jure': 2943, 'xikombeto': 2944, 'wakwe': 2945, 'lavikiki': 2946, 'sindzisaka': 2947, 'yisana': 2948, 'hungukisa': 2949, 'lulamisiwile': 2950, 'ehleketeleriwaka': 2951, 'swiyila': 2952, 'xihlawulekisi': 2953, 'walowo': 2954, 'ehleketeleriwa': 2955, 'by': 2956, 'tekeleke': 2957, 'tekangi': 2958, 'thala': 2959, 'thariwa': 2960, 'rirhandzu': 2961, 'vutinyiketeri': 2962, 'nseketelano': 2963, 'vamatiko': 2964, 'ntivomfumo': 2965, 'muhlovo': 2966, 'tshema': 2967, 'tikisa': 2968, 'fambelisaniwaka': 2969, 'ngheniseriweke': 2970, 'vekeriweke': 2971, 'tikerisiweke': 2972, 'vusweti': 2973, 'vuthoriwa': 2974, 'mithwaso': 2975, 'kombekisiweke': 2976, 'laiwaka': 2977, 'na': 2978, 'vukhongeli': 2979, 'nghenisaka': 2980, 'nyanyuko': 2981, 'susiwa': 2982, 'ntivo': 2983, 'switshuxo': 2984, 'valala': 2985, 'onhiwile': 2986, 'mfambelano': 2987, 'tixihlawulekiso': 2988, 'tikiseriweke': 2989, 'low': 2990, 'hetisisiwaka': 2991, 'pimanisekaka': 2992, 'tolokaka': 2993, 'makombandlela': 2994, 'vuhleri': 2995, 'nghenisiwaka': 2996, 'swandla': 2997, 'tiphati': 2998, 'vuveka': 2999, 'xiyiomo': 3000, 'vuswiko': 3001, 'lemukiwa': 3002, 'tiseke': 3003, 'xihawuhlawu': 3004, 'bohelela': 3005, 'hundzuluxaka': 3006, 'vuthori': 3007, 'naku': 3008, 'vunhwa': 3009, 'anakanyaka': 3010, 'vutsongo': 3011, 'tikombaka': 3012, 'kahlekahle': 3013, 'xikontiraka': 3014, 'rimbewumayelana': 3015, 'vadyandzhaka': 3016, 'ndzhavuko': 3017, 'mikhuva': 3018, 'onhaka': 3019, 'waxinuna': 3020, 'nhwana': 3021, 'polisi': 3022, 'pimela': 3023, 'alana': 3024, 'tikontiraka': 3025, 'mintrho': 3026, 'byuro': 3027, 'swisirheli': 3028, 'pimelaka': 3029, 'alelaka': 3030, 'hlanganisiwaka': 3031, 'boxiwa': 3032, 'xo': 3033, 'pfatlanya': 3034, 'milulamiso': 3035, 'bohelelaka': 3036, 'navetisa': 3037, 'tiyisisekile': 3038, 'nghenelelo': 3039, 'bona': 3040, 'fide': 3041, 'vutumbuluxi': 3042, 'xiakademiki': 3043, 'xisayense': 3044, 'vuringani': 3045, 'vunavetisi': 3046, 'papalatiwi': 3047, 'endliwanga': 3048, 'ehleketeleriwak': 3049, 'swinyingi': 3050, 'ndzimama': 3051, 'xihoxo': 3052, 'pimekaka': 3053, 'xionha': 3054, 'ntikeriwo': 3055, 'xanisekaka': 3056, 'taleto': 3057, 'tikisela': 3058, 'vupimelo': 3059, 'tsongo': 3060, 'fikeleleke': 3061, 'vonakalaka': 3062, 'xalexo': 3063, 'vangekeke': 3064, 'xsa': 3065, 'byakwe': 3066, 'burisanile': 3067, 'ekaka': 3068, 'khumbhekaka': 3069, 'swifundzantsongo': 3070, 'swifundzanyana': 3071, 'mpumbo': 3072, 'tlurisa': 3073, 'tengisa': 3074, 'hetisisiwangiki': 3075, 'hetisisa': 3076, 'hangalasiwangi': 3077, 'khosi': 3078, 'vaavanyisinkululu': 3079, 'kwalomu': 3080, 'unwa': 3081, 'dyondzisiswa': 3082, 'unthola': 3083, 'votala': 3084, 'namba': 3085, 'nzima': 3086, 'xiyenganax': 3087, 'hlengeleta': 3088, 'heta': 3089, 'khota': 3090, 'xiyenganx': 3091, 'pimapimaka': 3092, 'aleriwi': 3093, 'matima': 3094, 'hlawuleriwaka': 3095, 'walawo': 3096, 'koxometiwile': 3097, 'ndzeriso': 3098, 'mixupulo': 3099, 'nkalanxaxamelo': 3100, 'nkavanyeto': 3101, 'pfulekeleke': 3102, 'vuyerisaka': 3103, 'bakanyelaka': 3104, 'hudzisiwa': 3105, 'gqweta': 3106, 'vekiwanyana': 3107, 'humelerisiwile': 3108, 'yimelaka': 3109, 'xa': 3110, 'kakwe': 3111, 'hundziseriwa': 3112, 'langutisanaka': 3113, 'ndlandlamuko': 3114, 'maavanyiselo': 3115, 'nkhaqato': 3116, 'lemukisa': 3117, 'tlhandlekela': 3118, 'averiweke': 3119, 'heteki': 3120, 'tshamisisa': 3121, 'enetisaka': 3122, 'ahluriwa': 3123, 'tlherisiweke': 3124, 'exkarhi': 3125, 'onhokelo': 3126, 'tsanwiwa': 3127, 'xindzhuti': 3128, 'xaniseka': 3129, 'moyeni': 3130, 'miehleketweni': 3131, 'kongomaniweke': 3132, 'onhakalo': 3133, 'xikhenso': 3134, 'mihanano': 3135, 'fihliweke': 3136, 'hingakanya': 3137, 'tumbuluko': 3138, 'bumabumeriwa': 3139, 'vekanyana': 3140, 'layisense': 3141, 'mafambelo': 3142, 'xihehlo': 3143, 'mintsengo': 3144, 'nya': 3145, 'hundzusela': 3146, 'phikelelaka': 3147, 'lavisisiwa': 3148, 'koxometiwa': 3149, 'havaxerisiweke': 3150, 'tatisa': 3151, 'nxiyaxiyo': 3152, 'minsivelo': 3153, 'swiendlo': 3154, 'ranwana': 3155, 'vuyiserisaka': 3156, 'va': 3157, 'kongomesiweke': 3158, 'kumisiseni': 3159, 'tekiwile': 3160, 'nhlayonyingi': 3161, 'yoloye': 3162, 'lerisiwile': 3163, 'tintshuxa': 3164, 'humelerisiwaka': 3165, 'gimetiwa': 3166, 'njhekanjhekisano': 3167, 'yingiseriwaka': 3168, 'sunguriwa': 3169, 'vuntshwa': 3170, 'ndzimanantsongo': 3171, 'pfunetiweke': 3172, 'rhekhoda': 3173, 'pfunetiwi': 3174, 'hoxekeke': 3175, 'hakunenenene': 3176, 'vilelaehenhla': 3177, 'kumekeke': 3178, 'ndzinagniso': 3179, 'tshamisise': 3180, 'tshamisiseke': 3181, 'vonisaka': 3182, 'kongomana': 3183, 'kambisisile': 3184, 'mahumelerisiwelo': 3185, 'etlhelonyana': 3186, 'fikisiwa': 3187, 'wu': 3188, 'ndzemukiso': 3189, 'timfaneloxidzi': 3190, 'vupfa': 3191, 'mavekelo': 3192, 'xaxamelaka': 3193, 'xindyangu': 3194, 'vuenti': 3195, 'vuandlalo': 3196, 'switatiso': 3197, 'makumelo': 3198, 'mavekiwelo': 3199, 'kayetiwa': 3200, 'mphikelelo': 3201, 'kamanyetano': 3202, 'kongomisiwaka': 3203, 'kongomisiweke': 3204, 'asusa': 3205, 'kucetelaka': 3206, 'yalawo': 3207, 'bkhomixini': 3208, 'tinghenisaka': 3209, 'ndzhendzeleko': 3210, 'nkondletelo': 3211, 'vukosi': 3212, 'migingingiriko': 3213, 'tikhampani': 3214, 'xibindzu': 3215, 'vikela': 3216, 'vangeni': 3217, 'nyanyisile': 3218, 'xikambelo': 3219, 'nileswi': 3220, 'phikelela': 3221, 'paluxaka': 3222, 'ahlurisiweke': 3223, 'beku': 3224, 'kit': 3225, 'ndlandlamukeke': 3226, 'khomekaka': 3227, 'xirhangana': 3228, 'suseni': 3229, 'vukoxometi': 3230, 'kongomisiwile': 3231, 'kombiseni': 3232, 'xiy': 3233, 'ndlandlamuxa': 3234, 'hundzula': 3235, 'hlavuteleni': 3236, 'vugimamusi': 3237, 'masimekelo': 3238, 'maaendlelo': 3239, 'mahundziseriwelo': 3240, 'xitifikheti': 3241, 'rhijisitara': 3242, 'xirhambosindziso': 3243, 'khomiweke': 3244, 'hakeleriwaka': 3245, 'vachuchisi': 3246, 'korhoka': 3247, 'maavelo': 3248, 'pfunetiwaka': 3249, 'tihumesa': 3250, 'ringanisa': 3251, 'cna': 3252, 'vuhundzuluxeri': 3253, 'koxile': 3254, 'lwisanaka': 3255, 'xiringanyeto': 3256, 'langutisana': 3257, 'nkoxo': 3258, 'pfaleriwa': 3259, 'ejele': 3260, 'tluleki': 3261, 'andlariwa': 3262, 'bloko': 3263, 'xipikara': 3264, 'copeta': 3265, 'tihlo': 3266, 'vaofisirivafambisi': 3267, 'sweswosweswo': 3268, 'landzelelana': 3269, 'mulawuriangharela': 3270, 'haverisiweke': 3271, 'xiyenmgetsongo': 3272, 'andlala': 3273, 'epalamente': 3274, 'swiyengetsongo': 3275, 'tumbuluxaka': 3276, 'muofisirinkulu': 3277, 'mutivinkulu': 3278, 'khansele': 3279, 'kumisisaka': 3280, 'tlhelaka': 3281, 'lulameriwile': 3282, 'swiengetelo': 3283, 'mimpindzulo': 3284, 'bohisiwaka': 3285, 'khorwisaka': 3286, 'kanakana': 3287, 'hlanganaka': 3288, 'nkayetankateko': 3289, 'mfambelanoikhonomi': 3290, 'xiyengentsonx': 3291, 'khotou': 3292, 'lamuriwaka': 3293, 'cinciweki': 3294, 'hundzukeki': 3295, 'vomu': 3296, 'magalachelo': 3297, 'mahlawulelo': 3298, 'rak': 3299, 'eswikolweni': 3300, 'tibasari': 3301, 'tibondo': 3302, 'lombisa': 3303, 'hlawulekeke': 3304, 'vuyeriseki': 3305, 'ala': 3306, 'vukorhekeri': 3307, 'midende': 3308, 'rhamba': 3309, 'nakulobye': 3310, 'sukaka': 3311, 'kayetisiweke': 3312, 'tiphrofexini': 3313, 'ehenhleni': 3314, 'landzula': 3315, 'hlohletelaka': 3316, 'xikhiri': 3317, 'tinkotraka': 3318, 'phamela': 3319, 'tengeke': 3320, 'basangiki': 3321, 'phameriwaka': 3322, 'hlawuleni': 3323, 'khombyeni': 3324, 'riq': 3325, 'musumbhunuku': 3326, 'ravuntlhanu': 3327, 'desika': 3328, 'tikhompyuta': 3329, 'koteki': 3330, 'landzelerisiwa': 3331, 'cheke': 3332, 'ntshunxekanga': 3333, 'wahi': 3334, 'atm': 3335, 'rhasiti': 3336, 'pfariwile': 3337, 'banga': 3338, 'amukelaka': 3339, 'vabya': 3340, 'muhangalasi': 3341, 'muendli': 3342, 'vulamari': 3343, 'ehofisi': 3344, 'gqwetha': 3345, 'koxa': 3346, 'xava': 3347, 'tshikana': 3348, 'humesi': 3349, 'xifundzha': 3350, 'tengeni': 3351, 'sungulaka': 3352, 'xilamula': 3353, 'orange': 3354, 'tshaha': 3355, 'hoxiwa': 3356, 'swifambo': 3357, 'tilayini': 3358, 'leswinwana': 3359, 'mutswarimumangaleriwa': 3360, 'muchinini': 3361, 'tiakhawunti': 3362, 'xaka': 3363, 'bohiwile': 3364, 'tati': 3365, 'xaxametiwaka': 3366, 'tendzo': 3367, 'sunguli': 3368, 'marhasiti': 3369, 'yakhoto': 3370, 'vukoloni': 3371, 'comparative': 3372, 'studies': 3373, 'yelanisiwa': 3374, 'lerinwanatihuvo': 3375, 'landzeleriwatirhisiwa': 3376, 'swiyelaniso': 3377, 'pimanyetiwa': 3378, 'western': 3379, 'sisteme': 3380, 'landzeleri': 3381, 'mikhetekanyo': 3382, 'hangalaka': 3383, 'free': 3384, 'gauteng': 3385, 'limpopo': 3386, 'north': 3387, 'tiyisanyika': 3388, 'antswiseni': 3389, 'xosungula': 3390, 'masalela': 3391, 'tumbuluxe': 3392, 'ndzavisio': 3393, 'vakhumbeki': 3394, 'etikhoninferenseni': 3395, 'swivulavuri': 3396, 'avelanile': 3397, 'letele': 3398, 'vumbeke': 3399, 'mafamabiselo': 3400, 'ntshaho': 3401, 'tipolitiki': 3402, 'hlambanyile': 3403, 'rhipabliki': 3404, 'tifuma': 3405, 'lamantshwamfumo': 3406, 'buleleke': 3407, 'etikweninkulu': 3408, 'lerisiwa': 3409, 'tiyisa': 3410, 'hundzuluxo': 3411, 'leswintshwa': 3412, 'mafambiselomfumo': 3413, 'minhluvukiso': 3414, 'nkatsakanyo': 3415, 'lamantshwalebyintshwa': 3416, 'yaku': 3417, 'ka': 3418, 'swinenei': 3419, 'tshembela': 3420, 'byisa': 3421, 'mugangandhuna': 3422, 'tekeri': 3423, 'twisiseni': 3424, 'toloveleke': 3425, 'tisile': 3426, 'nghenelerile': 3427, 'hluvukisatumbuluxa': 3428, 'ngenelelaka': 3429, 'ndzingeto': 3430, 'simekiwe': 3431, 'hambanaku': 3432, 'olivier': 3433, 'tundziweke': 3434, 'vanitima': 3435, 'durhi': 3436, 'tikoloni': 3437, 'hundzuke': 3438, 'zn': 3439, 'jobodwana': 3440, 'fuma': 3441, 'vulanguteri': 3442, 'phuresidente': 3443, 'hosinkulu': 3444, 'ahlula': 3445, 'mihleketo': 3446, 'ximbirhi': 3447, 'languteka': 3448, 'tihvuo': 3449, 'siviweke': 3450, 'herisiwanga': 3451, 'xibhumabhumelo': 3452, 'hoexter': 3453, 'vange': 3454, 'zululand': 3455, 'yagazankulu': 3456, 'lebowa': 3457, 'qwaqwa': 3458, 'valawuri': 3459, 'hundzuluxiwile': 3460, 'sindzisa': 3461, 'tihuvovulawuri': 3462, 'voniwe': 3463, 'south': 3464, 'fanelaka': 3465, 'swibvumbeko': 3466, 'khomixinara': 3467, 'eswiyindlwanini': 3468, 'wadi': 3469, 'tiwadi': 3470, 'velekiwaka': 3471, 'bangwaketse': 3472, 'bamangwato': 3473, 'batawana': 3474, 'bamalete': 3475, 'tekeriweki': 3476, 'rhangeriweke': 3477, 'vaphuresidente': 3478, 'madorobeni': 3479, 'egaborone': 3480, 'efrancistown': 3481, 'elobatse': 3482, 'eselebipikwe': 3483, 'ejwaneng': 3484, 'eghanzi': 3485, 'kasane': 3486, 'vahlapfa': 3487, 'mupfunamuavanyisi': 3488, 'vholumu': 3489, 'toloveleka': 3490, 'tigiredi': 3491, 'pasisiwaka': 3492, 'vusirheleri': 3493, 'tshukaka': 3494, 'chuchisa': 3495, 'tihakela': 3496, 'xipfuno': 3497, 'egujarat': 3498, 'nyenyankulu': 3499, 'qhingha': 3500, 'pasisile': 3501, 'panchayats': 3502, 'mangariwile': 3503, 'asesiwa': 3504, 'adalats': 3505, 'tiyisisiwile': 3506, 'vululamivuavanyisi': 3507, 'efisem': 3508, 'akans': 3509, 'muavanyisinkulu': 3510, 'george': 3511, 'kingsley': 3512, 'acquahu': 3513, 'tsundzuxile': 3514, 'vayingiseri': 3515, 'vahlayisivini': 3516, 'tsakeriwaka': 3517, 'tsakeriwa': 3518, 'sindzisiwaka': 3519, 'hlayisile': 3520, 'yosungula': 3521, 'dok': 3522, 'seth': 3523, 'twum': 3524, 'kunguhatile': 3525, 'lamakulu': 3526, 'vatima': 3527, 'gqwetankulu': 3528, 'tshikeleriwile': 3529, 'seketerile': 3530, 'pfunetile': 3531, 'hangalasiweke': 3532, 'buletini': 3533, 'john': 3534, 'tomaino': 3535, 'tsale': 3536, 'rosungula': 3537, 'mindzingeto': 3538, 'ntshembo': 3539, 'siya': 3540, 'boxile': 3541, 'kusuhani': 3542, 'kondtletela': 3543, 'avanyisa': 3544, 'beyili': 3545, 'timhakeni': 3546, 'vulawauri': 3547, 'ecanada': 3548, 'twanananisa': 3549, 'hangalasiwaka': 3550, 'ra': 3551, 'londziwa': 3552, 'mbhurisano': 3553, 'horisa': 3554, 'anakanya': 3555, 'yuropa': 3556, 'dyondziwa': 3557, 'dyondza': 3558, 'hola': 3559, 'homboloka': 3560, 'rivalela': 3561, 'valumbetiwavahehliwa': 3562, 'ripfalo': 3563, 'dyoheriweke': 3564, 'londza': 3565, 'sindzisiwa': 3566, 'siyiweke': 3567, 'papalata': 3568, 'asia': 3569, 'yimeriwa': 3570, 'eaustralia': 3571, 'landzelelaka': 3572, 'xiii': 3573, 'bakanyeriwa': 3574, 'tshunxekanga': 3575, 'tifcs': 3576, 'nyanda': 3577, 'bakanyele': 3578, 'kaneta': 3579, 'feni': 3580, 'bclr': 3581, 'kanetanile': 3582, 'tipharagirafu': 3583, 'tiyisisiweke': 3584, 'hetetelela': 3585, 'hundzuluxanga': 3586, 'vilerisiwa': 3587, 'mangalaka': 3588, 'minkanteno': 3589, 'nkanelo': 3590, 'vule': 3591, 'tikaka': 3592, 'makumetsevu': 3593, 'vahlamuri': 3594, 'tshamisekile': 3595, 'ba': 3596, 'vuloyi': 3597, 'onhiwa': 3598, 'swimilana': 3599, 'tihomu': 3600, 'pfaleriweki': 3601, 'xinhwanyetana': 3602, 'ndzovolo': 3603, 'tsakiseki': 3604, 'vurile': 3605, 'vatirhikulorhi': 3606, 'voniwaka': 3607, 'lowunsthwa': 3608, 'voniwile': 3609, 'lulamiseleni': 3610, 'hlamuseriwe': 3611, 'hlamuseriwanga': 3612, 'yeke': 3613, 'tixedulu': 3614, 'leswitsongo': 3615, 'landzeleriwi': 3616, 'tshikeleriwa': 3617, 'tiparagirafu': 3618, 'vutshunxeki': 3619, 'xiendleko': 3620, 'xiseketelo': 3621, 'varhanger': 3622, 'iva': 3623, 'nkhavi': 3624, 'himeteriwa': 3625, 'letikulu': 3626, 'thwaseleke': 3627, 'hanyeke': 3628, 'vuli': 3629, 'rixho': 3630, 'rixakazidzi': 3631, 'tlakuse': 3632, 'rsa': 3633, 'toleto': 3634, 'yisiwe': 3635, 'swifundznkulu': 3636, 'ekarhini': 3637, 'xifundzeni': 3638, 'tshembeki': 3639, 'nyawula': 3640, 'vitanisiwa': 3641, 'xiengetelo': 3642, 'rhangisiwa': 3643, 'emahweni': 3644, 'mingongoko': 3645, 'lebyintswa': 3646, 'susiwile': 3647, 'nyikiwi': 3648, 'tinyekerile': 3649, 'katsiwanga': 3650, 'vutirhelamfumo': 3651, 'toloveriweke': 3652, 'hungutile': 3653, 'tivisile': 3654, 'musirheleri': 3655, 'vaakatiko': 3656, 'phikizana': 3657, 'nyanyisiwa': 3658, 'pilane': 3659, 'loveriwile': 3660, 'rilela': 3661, 'chela': 3662, 'mogaga': 3663, 'endleleni': 3664, 'ripfmelo': 3665, 'tekeleki': 3666, 'xupuriwile': 3667, 'kwetlembetana': 3668, 'xupurile': 3669, 'kambisise': 3670, 'mamone': 3671, 'monagedi': 3672, 'xungetile': 3673, 'yisile': 3674, 'twananiweke': 3675, 'fambiselo': 3676, 'bumabumele': 3677, 'heteleleni': 3678, 'khensile': 3679, 'lavisisiweke': 3680, 'lavisisakambisisa': 3681, 'jerry': 3682, 'mohlahla': 3683, 'lweke': 3684, 'xavisa': 3685, 'emokwete': 3686, 'boheleriwa': 3687, 'mitwa': 3688, 'lumiwa': 3689, 'rimenyo': 3690, 'xavisele': 3691, 'mangalerile': 3692, 'mangariweke': 3693, 'pholisiswilo': 3694, 'angulana': 3695, 'ubuntu': 3696, 'ndzhuloku': 3697, 'lebyikulu': 3698, 'endleriwe': 3699, 'ehleketeriwaka': 3700, 'khongelela': 3701, 'minkhuvo': 3702, 'basisa': 3703, 'weriwile': 3704, 'shaka': 3705, 'swifundzho': 3706, 'mongo': 3707, 'heriseni': 3708, 'mangariwi': 3709, 'muvulavuleri': 3710, 'leyinene': 3711, 'herisiwaka': 3712, 'ntshunxekeke': 3713, 'voyameleki': 3714, 'voyameri': 3715, 'fambiseni': 3716, 'malembexidzana': 3717, 'hetisekangi': 3718, 'landzeriwa': 3719, 'tikwenivaaki': 3720, 'tivonela': 3721, 'hlamuseri': 3722, 'hakerisaka': 3723, 'nyikiweki': 3724, 'ndhunakazi': 3725, 'tsandzile': 3726, 'herisiwi': 3727, 'rhambaka': 3728, 'holo': 3729, 'katsiwaka': 3730, 'fikeleriwi': 3731, 'ngheneriwa': 3732, 'endliwke': 3733, 'fiekela': 3734, 'voni': 3735, 'xikongomelonkulu': 3736, 'twisiseka': 3737, 'ekusuhani': 3738, 'tsemakanyaka': 3739, 'languteriwa': 3740, 'endliweni': 3741, 'tifambelanisa': 3742, 'thyiweke': 3743, 'landzerile': 3744, 'komisiwa': 3745, 'timhka': 3746, 'vuyimeriku': 3747, 'thuvo': 3748, 'rihisa': 3749, 'vasirheleri': 3750, 'tihubyeni': 3751, 'tihlawulela': 3752, 'tosungula': 3753, 'viii': 3754, 'rhijistara': 3755, 'ringetaka': 3756, 'khotsweni': 3757, 'vuluami': 3758, 'tlhentlhisiwa': 3759, 'murhagerinkulu': 3760, 'mutirhinkulu': 3761, 'wokarhi': 3762, 'tindhunakazi': 3763, 'kholichi': 3764, 'tsariwangiki': 3765, 'endhawu': 3766, 'vonaki': 3767, 'ndlandlamuxeka': 3768, 'matheme': 3769, 'nhlamuselohava': 3770, 'minkhenekanyo': 3771, 'hambanisiwile': 3772, 'hoyozeriwa': 3773, 'nyikana': 3774, 'hakunene': 3775, 'hambananyana': 3776, 'tsariwanga': 3777, 'vokarhi': 3778, 'tikeki': 3779, 'leyitsongo': 3780, 'minondzo': 3781, 'mintlhonltho': 3782, 'letimbirhi': 3783, 'twananiwi': 3784, 'ndhawini': 3785, 'caca': 3786, 'mindziriso': 3787, 'kongomisiwa': 3788, 'dyoheke': 3789, 'choudree': 3790, 'nyimpfu': 3791, 'mbuti': 3792, 'homu': 3793, 'tihlantswa': 3794, 'ukuzidla': 3795, 'imali': 3796, 'zithandanzela': 3797, 'rivaleriwa': 3798, 'tivonaka': 3799, 'tipimelaka': 3800, 'ringananga': 3801, 'ndzhukano': 3802, 'tirihisa': 3803, 'hungutanyana': 3804, 'ri': 3805, 'nthai': 3806, 'ximanguva': 3807, 'khomeriwa': 3808, 'hehlaka': 3809, 'vekiwaka': 3810, 'hakerisiwaka': 3811, 'tirhiseni': 3812, 'lerisiwaka': 3813, 'susumeti': 3814, 'rhangeriwaka': 3815, 'ekhotsweni': 3816, 'chavisiwa': 3817, 'vaakelani': 3818, 'nyawuri': 3819, 'tirhani': 3820, 'musirhelerimunhu': 3821, 'tivisiwile': 3822, 'ndziriso': 3823, 'muchuchisinkulu': 3824, 'susiweke': 3825, 'enerisiwa': 3826, 'tekiwi': 3827, 'xidyoho': 3828, 'bhurisana': 3829, 'swidyoho': 3830, 'xithsembiso': 3831, 'vadyohi': 3832, 'ringanile': 3833, 'sirheleriwangiki': 3834, 'xiyaxiyiwa': 3835, 'lavantshwa': 3836, 'ndhauvko': 3837, 'herisiwangiki': 3838, 'langutiwaka': 3839, 'tekeriwanga': 3840, 'fikeleleni': 3841, 'kunguhatiwaka': 3842, 'avela': 3843, 'epalamende': 3844, 'yarixaka': 3845, 'rhambiweke': 3846, 'engheneriweke': 3847, 'varhumiwa': 3848, 'vaavanyisinkulu': 3849, 'sadc': 3850, 'kanerile': 3851, 'akeni': 3852, 'minkwetlembena': 3853, 'matikweni': 3854, 'nwangulano': 3855, 'landzeriwile': 3856, 'emafikeng': 3857, 'enelspruit': 3858, 'epolokwane': 3859, 'elimpopo': 3860, 'eharrismith': 3861, 'efree': 3862, 'edurban': 3863, 'swifundzeninkulu': 3864, 'yinwanaya': 3865, 'pfuriwile': 3866, 'vaymeri': 3867, 'rhambiwile': 3868, 'salga': 3869, 'nhlengletano': 3870, 'hetisiwa': 3871, 'avana': 3872, 'vuxokoxokomahungu': 3873, 'vatirhisani': 3874, 'swintshunxo': 3875, 'komberiwile': 3876, 'khutaziwa': 3877, 'tsundzuxiwa': 3878, 'nyiketa': 3879, 'langutiweke': 3880, 'nyiketiweke': 3881, 'amukeriweke': 3882, 'miheleketo': 3883, 'tusndzuxana': 3884, 'znjobodwana': 3885, 'mpimaniso': 3886, 'yunivhesiti': 3887, 'pietermaritzburg': 3888, 'hlayiweke': 3889, 'vululamindzulamiso': 3890, 'nyenyenyani': 3891, 'matikomambe': 3892}\n",
      "\n",
      "Vocabulary Size: 3893\n"
     ]
    }
   ],
   "source": [
    "tokenizer = Tokenizer()\n",
    "\n",
    "# Fit the tokenizer on the cleaned data to build a word index\n",
    "tokenizer.fit_on_texts(fully_cleaned_data)\n",
    "\n",
    "# Convert the cleaned text into sequences of tokens (integers)\n",
    "sequences = tokenizer.texts_to_sequences(fully_cleaned_data)\n",
    "\n",
    "# Determine the maximum sequence length (e.g. choose 30 for this case)\n",
    "max_sequence_length = 30  \n",
    "\n",
    "# Padding  the sequences to ensure they all have the same length\n",
    "padded_sequences = pad_sequences(sequences, maxlen=max_sequence_length, padding='post')\n",
    "\n",
    "\n",
    "print(\"Padded Sequences:\")\n",
    "print(padded_sequences[:10])  # Display first 10 sequences of the paaded sequence\n",
    "\n",
    "# Check the tokenizer word index and size of the vocabulary\n",
    "print(\"\\nTokenizer Word Index:\")\n",
    "print(tokenizer.word_index)\n",
    "print(\"\\nVocabulary Size:\", len(tokenizer.word_index) + 1) \n"
   ]
  },
  {
   "cell_type": "code",
   "execution_count": 9,
   "metadata": {},
   "outputs": [
    {
     "name": "stdout",
     "output_type": "stream",
     "text": [
      "Training Data: X_train shape = (1452, 29), y_train shape = (1452,)\n",
      "Validation Data: X_val shape = (182, 29), y_val shape = (182,)\n",
      "Test Data: X_test shape = (182, 29), y_test shape = (182,)\n"
     ]
    }
   ],
   "source": [
    "X = padded_sequences[:, :-1]\n",
    "y = padded_sequences[:, -1]   # The last word (target)\n",
    "\n",
    "\n",
    "X_train, X_temp, y_train, y_temp = train_test_split(X, y, test_size=0.2, random_state=42)\n",
    "X_val, X_test, y_val, y_test = train_test_split(X_temp, y_temp, test_size=0.5, random_state=42)\n",
    "\n",
    "# Print the shapes of the datasets\n",
    "print(f\"Training Data: X_train shape = {X_train.shape}, y_train shape = {y_train.shape}\")\n",
    "print(f\"Validation Data: X_val shape = {X_val.shape}, y_val shape = {y_val.shape}\")\n",
    "print(f\"Test Data: X_test shape = {X_test.shape}, y_test shape = {y_test.shape}\")\n"
   ]
  },
  {
   "cell_type": "code",
   "execution_count": null,
   "metadata": {},
   "outputs": [],
   "source": [
    "# Define the LSTM model architecture\n",
    "model = Sequential()\n",
    "\n",
    "# Embedding layer\n",
    "model.add(Embedding(input_dim=len(tokenizer.word_index) + 1, \n",
    "                    output_dim=150, \n",
    "                    input_length=X_train.shape[1]))\n",
    "\n",
    "# LSTM layer\n",
    "model.add(LSTM(units=256, return_sequences=False, dropout=0.3, recurrent_dropout=0.1))\n",
    "\n",
    "# Dense layer for output (softmax activation for multi-class classification)\n",
    "model.add(Dense(len(tokenizer.word_index) + 1, activation='softmax'))\n",
    "\n",
    "# Compile the model optimized adam, learning rate, and metric parameters\n",
    "model.compile(optimizer=Adam(learning_rate=0.0001), loss='sparse_categorical_crossentropy', metrics=['accuracy'])\n",
    "\n",
    "model.summary()\n"
   ]
  },
  {
   "cell_type": "code",
   "execution_count": 11,
   "metadata": {},
   "outputs": [
    {
     "name": "stdout",
     "output_type": "stream",
     "text": [
      "Epoch 1/100\n",
      "\u001b[1m12/12\u001b[0m \u001b[32m━━━━━━━━━━━━━━━━━━━━\u001b[0m\u001b[37m\u001b[0m \u001b[1m5s\u001b[0m 176ms/step - accuracy: 0.3124 - loss: 8.2486 - val_accuracy: 0.7198 - val_loss: 8.1846\n",
      "Epoch 2/100\n",
      "\u001b[1m12/12\u001b[0m \u001b[32m━━━━━━━━━━━━━━━━━━━━\u001b[0m\u001b[37m\u001b[0m \u001b[1m2s\u001b[0m 130ms/step - accuracy: 0.7995 - loss: 8.1330 - val_accuracy: 0.7253 - val_loss: 7.9215\n",
      "Epoch 3/100\n",
      "\u001b[1m12/12\u001b[0m \u001b[32m━━━━━━━━━━━━━━━━━━━━\u001b[0m\u001b[37m\u001b[0m \u001b[1m2s\u001b[0m 133ms/step - accuracy: 0.7902 - loss: 7.6894 - val_accuracy: 0.7253 - val_loss: 6.7732\n",
      "Epoch 4/100\n",
      "\u001b[1m12/12\u001b[0m \u001b[32m━━━━━━━━━━━━━━━━━━━━\u001b[0m\u001b[37m\u001b[0m \u001b[1m2s\u001b[0m 134ms/step - accuracy: 0.7788 - loss: 6.2974 - val_accuracy: 0.7253 - val_loss: 5.2663\n",
      "Epoch 5/100\n",
      "\u001b[1m12/12\u001b[0m \u001b[32m━━━━━━━━━━━━━━━━━━━━\u001b[0m\u001b[37m\u001b[0m \u001b[1m2s\u001b[0m 136ms/step - accuracy: 0.8034 - loss: 4.6488 - val_accuracy: 0.7253 - val_loss: 4.1728\n",
      "Epoch 6/100\n",
      "\u001b[1m12/12\u001b[0m \u001b[32m━━━━━━━━━━━━━━━━━━━━\u001b[0m\u001b[37m\u001b[0m \u001b[1m2s\u001b[0m 135ms/step - accuracy: 0.7797 - loss: 3.5966 - val_accuracy: 0.7253 - val_loss: 3.3164\n",
      "Epoch 7/100\n",
      "\u001b[1m12/12\u001b[0m \u001b[32m━━━━━━━━━━━━━━━━━━━━\u001b[0m\u001b[37m\u001b[0m \u001b[1m2s\u001b[0m 131ms/step - accuracy: 0.7944 - loss: 2.6463 - val_accuracy: 0.7253 - val_loss: 2.7834\n",
      "Epoch 8/100\n",
      "\u001b[1m12/12\u001b[0m \u001b[32m━━━━━━━━━━━━━━━━━━━━\u001b[0m\u001b[37m\u001b[0m \u001b[1m2s\u001b[0m 129ms/step - accuracy: 0.8124 - loss: 1.9827 - val_accuracy: 0.7253 - val_loss: 2.5489\n",
      "Epoch 9/100\n",
      "\u001b[1m12/12\u001b[0m \u001b[32m━━━━━━━━━━━━━━━━━━━━\u001b[0m\u001b[37m\u001b[0m \u001b[1m2s\u001b[0m 126ms/step - accuracy: 0.7984 - loss: 1.8131 - val_accuracy: 0.7253 - val_loss: 2.4687\n",
      "Epoch 10/100\n",
      "\u001b[1m12/12\u001b[0m \u001b[32m━━━━━━━━━━━━━━━━━━━━\u001b[0m\u001b[37m\u001b[0m \u001b[1m2s\u001b[0m 132ms/step - accuracy: 0.7892 - loss: 1.7706 - val_accuracy: 0.7253 - val_loss: 2.4444\n",
      "Epoch 11/100\n",
      "\u001b[1m12/12\u001b[0m \u001b[32m━━━━━━━━━━━━━━━━━━━━\u001b[0m\u001b[37m\u001b[0m \u001b[1m2s\u001b[0m 130ms/step - accuracy: 0.8161 - loss: 1.5294 - val_accuracy: 0.7253 - val_loss: 2.4383\n",
      "Epoch 12/100\n",
      "\u001b[1m12/12\u001b[0m \u001b[32m━━━━━━━━━━━━━━━━━━━━\u001b[0m\u001b[37m\u001b[0m \u001b[1m2s\u001b[0m 133ms/step - accuracy: 0.7985 - loss: 1.6185 - val_accuracy: 0.7253 - val_loss: 2.4370\n",
      "Epoch 13/100\n",
      "\u001b[1m12/12\u001b[0m \u001b[32m━━━━━━━━━━━━━━━━━━━━\u001b[0m\u001b[37m\u001b[0m \u001b[1m1s\u001b[0m 118ms/step - accuracy: 0.8026 - loss: 1.5780 - val_accuracy: 0.7253 - val_loss: 2.4372\n",
      "Epoch 14/100\n",
      "\u001b[1m12/12\u001b[0m \u001b[32m━━━━━━━━━━━━━━━━━━━━\u001b[0m\u001b[37m\u001b[0m \u001b[1m1s\u001b[0m 121ms/step - accuracy: 0.7963 - loss: 1.6070 - val_accuracy: 0.7253 - val_loss: 2.4381\n",
      "Epoch 15/100\n",
      "\u001b[1m12/12\u001b[0m \u001b[32m━━━━━━━━━━━━━━━━━━━━\u001b[0m\u001b[37m\u001b[0m \u001b[1m1s\u001b[0m 120ms/step - accuracy: 0.7885 - loss: 1.6593 - val_accuracy: 0.7253 - val_loss: 2.4397\n",
      "Epoch 16/100\n",
      "\u001b[1m12/12\u001b[0m \u001b[32m━━━━━━━━━━━━━━━━━━━━\u001b[0m\u001b[37m\u001b[0m \u001b[1m1s\u001b[0m 120ms/step - accuracy: 0.7757 - loss: 1.7278 - val_accuracy: 0.7253 - val_loss: 2.4422\n",
      "Epoch 17/100\n",
      "\u001b[1m12/12\u001b[0m \u001b[32m━━━━━━━━━━━━━━━━━━━━\u001b[0m\u001b[37m\u001b[0m \u001b[1m1s\u001b[0m 122ms/step - accuracy: 0.7840 - loss: 1.6485 - val_accuracy: 0.7253 - val_loss: 2.4432\n",
      "Epoch 18/100\n",
      "\u001b[1m12/12\u001b[0m \u001b[32m━━━━━━━━━━━━━━━━━━━━\u001b[0m\u001b[37m\u001b[0m \u001b[1m1s\u001b[0m 122ms/step - accuracy: 0.7951 - loss: 1.5753 - val_accuracy: 0.7253 - val_loss: 2.4447\n",
      "Epoch 19/100\n",
      "\u001b[1m12/12\u001b[0m \u001b[32m━━━━━━━━━━━━━━━━━━━━\u001b[0m\u001b[37m\u001b[0m \u001b[1m1s\u001b[0m 117ms/step - accuracy: 0.7971 - loss: 1.5531 - val_accuracy: 0.7253 - val_loss: 2.4470\n",
      "Epoch 20/100\n",
      "\u001b[1m12/12\u001b[0m \u001b[32m━━━━━━━━━━━━━━━━━━━━\u001b[0m\u001b[37m\u001b[0m \u001b[1m2s\u001b[0m 134ms/step - accuracy: 0.7996 - loss: 1.5342 - val_accuracy: 0.7253 - val_loss: 2.4492\n",
      "Epoch 21/100\n",
      "\u001b[1m12/12\u001b[0m \u001b[32m━━━━━━━━━━━━━━━━━━━━\u001b[0m\u001b[37m\u001b[0m \u001b[1m1s\u001b[0m 120ms/step - accuracy: 0.8024 - loss: 1.5105 - val_accuracy: 0.7253 - val_loss: 2.4516\n",
      "Epoch 22/100\n",
      "\u001b[1m12/12\u001b[0m \u001b[32m━━━━━━━━━━━━━━━━━━━━\u001b[0m\u001b[37m\u001b[0m \u001b[1m2s\u001b[0m 124ms/step - accuracy: 0.7984 - loss: 1.5267 - val_accuracy: 0.7253 - val_loss: 2.4535\n",
      "Epoch 22: early stopping\n",
      "Restoring model weights from the end of the best epoch: 12.\n"
     ]
    }
   ],
   "source": [
    "# Defining EarlyStopping callback\n",
    "early_stopping = EarlyStopping(monitor='val_loss', # monitoring the valdidation loss\n",
    "                               patience=10,  # Number of epochs with no improvement before stopping\n",
    "                               verbose=1,\n",
    "                               restore_best_weights=True) # when training staert to overfit\n",
    "\n",
    "# Train the model with early stopping\n",
    "history = model.fit(X_train, y_train, \n",
    "                    epochs=100,  \n",
    "                    batch_size=128,\n",
    "                    validation_data=(X_val, y_val),\n",
    "                    callbacks=[early_stopping])\n"
   ]
  },
  {
   "cell_type": "code",
   "execution_count": null,
   "metadata": {},
   "outputs": [],
   "source": [
    "# Plot accuracy\n",
    "plt.plot(history.history['accuracy'], label='accuracy')\n",
    "plt.plot(history.history['val_accuracy'], label = 'val_accuracy')\n",
    "plt.xlabel('Epochs')\n",
    "plt.ylabel('Accuracy')\n",
    "plt.legend(loc='lower right')\n",
    "plt.title('Training and Validation Accuracy')\n",
    "plt.show()\n",
    "\n",
    "# Plot loss\n",
    "plt.plot(history.history['loss'], label='loss')\n",
    "plt.plot(history.history['val_loss'], label = 'val_loss')\n",
    "plt.xlabel('Epochs')\n",
    "plt.ylabel('Loss')\n",
    "plt.legend(loc='upper right')\n",
    "plt.title('Training and Validation Loss')\n",
    "plt.show()"
   ]
  },
  {
   "cell_type": "markdown",
   "metadata": {},
   "source": [
    "## Text generation"
   ]
  },
  {
   "cell_type": "code",
   "execution_count": 14,
   "metadata": {},
   "outputs": [],
   "source": [
    "import numpy as np\n",
    "import tensorflow as tf\n",
    "\n",
    "def generate_text(model, tokenizer, seed_text, max_sequence_len, num_words_to_generate=50, temperature=1.0):\n",
    "    \n",
    "    # Step 1: Preprocess the seed text (same preprocessing done during training)\n",
    "    seed_text = seed_text.lower()  # Convert to lowercase (if that was part of your preprocessing)\n",
    "    \n",
    "    # Tokenize the seed text\n",
    "    seed_tokens = tokenizer.texts_to_sequences([seed_text])\n",
    "    \n",
    "    \n",
    "    seed_tokens_padded = tf.keras.preprocessing.sequence.pad_sequences(seed_tokens, maxlen=max_sequence_len, padding='pre')\n",
    "\n",
    "    generated_text = seed_text\n",
    "    \n",
    "    # Step 2: Generate text by predicting the next token iteratively\n",
    "    for _ in range(num_words_to_generate):\n",
    "        # Predict the next token probabilities\n",
    "        predictions = model.predict(seed_tokens_padded, verbose=0)\n",
    "\n",
    "     \n",
    "        predictions = predictions[0, :]  \n",
    "        predictions = predictions / temperature  \n",
    "        predictions = np.exp(predictions) / np.sum(np.exp(predictions))  # Softmax function for probabilities\n",
    "\n",
    "        \n",
    "        next_token = np.random.choice(len(predictions), p=predictions)\n",
    "\n",
    "        # Decoding the token to a word\n",
    "        next_word = tokenizer.index_word.get(next_token, '')\n",
    "        generated_text += ' ' + next_word\n",
    "        \n",
    "       \n",
    "        seed_tokens_padded = np.roll(seed_tokens_padded, shift=-1, axis=1)  \n",
    "        seed_tokens_padded[0, -1] = next_token  \n",
    "\n",
    "    return generated_text\n",
    "\n",
    "def print_in_lines(text, words_per_line=15):\n",
    "    words = text.split()\n",
    "    for i in range(0, len(words), words_per_line):\n",
    "        print(\" \".join(words[i:i + words_per_line]))\n",
    "\n"
   ]
  },
  {
   "cell_type": "code",
   "execution_count": 15,
   "metadata": {},
   "outputs": [
    {
     "name": "stdout",
     "output_type": "stream",
     "text": [
      "Generated Text:\n",
      "vukheta tiejente tihuvo minharhu lavakulu tk lowunsthwa veke cancel thlelo\n",
      "ngopfu tivonaka kwetlembetana tintshwa kamberile kahlekahle khorwisaka lokou tikumela xiyenganax\n",
      "rhekodiweke dyondziwa siveleka timbhoni kayetiwa khalikhuletiwa vukhongeri tlhandlekela wenae afrikadzonga\n",
      "vula\n"
     ]
    }
   ],
   "source": [
    "# seed text\n",
    "seed_text = \"vukheta\"  \n",
    "max_sequence_len = 30  # per tokenize sequence length\n",
    "\n",
    "\n",
    "generated_text = generate_text(model, tokenizer, seed_text, max_sequence_len, num_words_to_generate=30, temperature=1.0)\n",
    "\n",
    "# Printing the generated text in lines with 10 words per line\n",
    "print(\"Generated Text:\")\n",
    "print_in_lines(generated_text, words_per_line=10)\n"
   ]
  }
 ],
 "metadata": {
  "kernelspec": {
   "display_name": "base",
   "language": "python",
   "name": "python3"
  },
  "language_info": {
   "codemirror_mode": {
    "name": "ipython",
    "version": 3
   },
   "file_extension": ".py",
   "mimetype": "text/x-python",
   "name": "python",
   "nbconvert_exporter": "python",
   "pygments_lexer": "ipython3",
   "version": "3.12.4"
  }
 },
 "nbformat": 4,
 "nbformat_minor": 2
}
